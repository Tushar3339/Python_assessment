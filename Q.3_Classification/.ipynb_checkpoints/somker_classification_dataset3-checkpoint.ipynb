{
 "cells": [
  {
   "cell_type": "markdown",
   "id": "6b9818db",
   "metadata": {
    "papermill": {
     "duration": 0.021147,
     "end_time": "2023-07-31T15:08:07.590340",
     "exception": false,
     "start_time": "2023-07-31T15:08:07.569193",
     "status": "completed"
    },
    "tags": []
   },
   "source": [
    "# Q.3 Classification - Smoker Classification Dataset"
   ]
  },
  {
   "cell_type": "code",
   "execution_count": 257,
   "id": "999208d3",
   "metadata": {
    "execution": {
     "iopub.execute_input": "2023-07-31T15:08:07.628346Z",
     "iopub.status.busy": "2023-07-31T15:08:07.627557Z",
     "iopub.status.idle": "2023-07-31T15:08:09.132352Z",
     "shell.execute_reply": "2023-07-31T15:08:09.131037Z"
    },
    "papermill": {
     "duration": 1.527323,
     "end_time": "2023-07-31T15:08:09.135567",
     "exception": false,
     "start_time": "2023-07-31T15:08:07.608244",
     "status": "completed"
    },
    "tags": []
   },
   "outputs": [],
   "source": [
    "import pandas as pd\n",
    "import numpy as np\n",
    "import matplotlib.pyplot as plt\n",
    "import seaborn as sns\n",
    "from sklearn.model_selection import train_test_split\n",
    "from sklearn.metrics import ConfusionMatrixDisplay\n",
    "from sklearn.preprocessing import StandardScaler\n",
    "from sklearn.metrics import confusion_matrix, accuracy_score\n",
    "from sklearn.linear_model import LogisticRegression\n",
    "from sklearn.neighbors import KNeighborsClassifier\n",
    "from sklearn.svm import SVC, NuSVC, LinearSVC\n",
    "from sklearn.naive_bayes import GaussianNB\n",
    "from sklearn.tree import DecisionTreeClassifier\n",
    "from sklearn.ensemble import RandomForestClassifier\n",
    "import xgboost as xgb"
   ]
  },
  {
   "cell_type": "code",
   "execution_count": 258,
   "id": "18eea835",
   "metadata": {
    "execution": {
     "iopub.execute_input": "2023-07-31T15:08:09.174578Z",
     "iopub.status.busy": "2023-07-31T15:08:09.174064Z",
     "iopub.status.idle": "2023-07-31T15:08:10.014068Z",
     "shell.execute_reply": "2023-07-31T15:08:10.012832Z"
    },
    "papermill": {
     "duration": 0.863514,
     "end_time": "2023-07-31T15:08:10.017337",
     "exception": false,
     "start_time": "2023-07-31T15:08:09.153823",
     "status": "completed"
    },
    "tags": []
   },
   "outputs": [],
   "source": [
    "data = pd.read_csv('medical_students_dataset.csv')"
   ]
  },
  {
   "cell_type": "code",
   "execution_count": 259,
   "id": "010d3b24",
   "metadata": {
    "execution": {
     "iopub.execute_input": "2023-07-31T15:08:10.056402Z",
     "iopub.status.busy": "2023-07-31T15:08:10.055922Z",
     "iopub.status.idle": "2023-07-31T15:08:10.064009Z",
     "shell.execute_reply": "2023-07-31T15:08:10.062858Z"
    },
    "papermill": {
     "duration": 0.031617,
     "end_time": "2023-07-31T15:08:10.067264",
     "exception": false,
     "start_time": "2023-07-31T15:08:10.035647",
     "status": "completed"
    },
    "tags": []
   },
   "outputs": [
    {
     "data": {
      "text/plain": [
       "(200000, 13)"
      ]
     },
     "execution_count": 259,
     "metadata": {},
     "output_type": "execute_result"
    }
   ],
   "source": [
    "data.shape"
   ]
  },
  {
   "cell_type": "markdown",
   "id": "59f74873",
   "metadata": {},
   "source": [
    "## Data is too big.(Takes too much time to train)\n",
    "## We will take 20000 random data points"
   ]
  },
  {
   "cell_type": "code",
   "execution_count": 260,
   "id": "0f29aa38",
   "metadata": {},
   "outputs": [
    {
     "data": {
      "text/plain": [
       "(20000, 13)"
      ]
     },
     "execution_count": 260,
     "metadata": {},
     "output_type": "execute_result"
    }
   ],
   "source": [
    "random_indices = np.random.choice(data.index, size=20000, replace=False)\n",
    "data = data.loc[random_indices]\n",
    "data.shape"
   ]
  },
  {
   "cell_type": "code",
   "execution_count": 261,
   "id": "3f24e109",
   "metadata": {},
   "outputs": [
    {
     "data": {
      "text/html": [
       "<div>\n",
       "<style scoped>\n",
       "    .dataframe tbody tr th:only-of-type {\n",
       "        vertical-align: middle;\n",
       "    }\n",
       "\n",
       "    .dataframe tbody tr th {\n",
       "        vertical-align: top;\n",
       "    }\n",
       "\n",
       "    .dataframe thead th {\n",
       "        text-align: right;\n",
       "    }\n",
       "</style>\n",
       "<table border=\"1\" class=\"dataframe\">\n",
       "  <thead>\n",
       "    <tr style=\"text-align: right;\">\n",
       "      <th></th>\n",
       "      <th>Student ID</th>\n",
       "      <th>Age</th>\n",
       "      <th>Gender</th>\n",
       "      <th>Height</th>\n",
       "      <th>Weight</th>\n",
       "      <th>Blood Type</th>\n",
       "      <th>BMI</th>\n",
       "      <th>Temperature</th>\n",
       "      <th>Heart Rate</th>\n",
       "      <th>Blood Pressure</th>\n",
       "      <th>Cholesterol</th>\n",
       "      <th>Diabetes</th>\n",
       "      <th>Smoking</th>\n",
       "    </tr>\n",
       "  </thead>\n",
       "  <tbody>\n",
       "    <tr>\n",
       "      <th>97532</th>\n",
       "      <td>97533.0</td>\n",
       "      <td>24.0</td>\n",
       "      <td>Male</td>\n",
       "      <td>167.694625</td>\n",
       "      <td>55.635829</td>\n",
       "      <td>O</td>\n",
       "      <td>19.784099</td>\n",
       "      <td>99.361936</td>\n",
       "      <td>81.0</td>\n",
       "      <td>NaN</td>\n",
       "      <td>NaN</td>\n",
       "      <td>Yes</td>\n",
       "      <td>No</td>\n",
       "    </tr>\n",
       "    <tr>\n",
       "      <th>70166</th>\n",
       "      <td>70167.0</td>\n",
       "      <td>34.0</td>\n",
       "      <td>Male</td>\n",
       "      <td>181.479032</td>\n",
       "      <td>97.815454</td>\n",
       "      <td>AB</td>\n",
       "      <td>29.699871</td>\n",
       "      <td>98.288009</td>\n",
       "      <td>97.0</td>\n",
       "      <td>120.0</td>\n",
       "      <td>208.0</td>\n",
       "      <td>No</td>\n",
       "      <td>No</td>\n",
       "    </tr>\n",
       "    <tr>\n",
       "      <th>136</th>\n",
       "      <td>137.0</td>\n",
       "      <td>18.0</td>\n",
       "      <td>NaN</td>\n",
       "      <td>181.297913</td>\n",
       "      <td>83.552679</td>\n",
       "      <td>B</td>\n",
       "      <td>NaN</td>\n",
       "      <td>98.073156</td>\n",
       "      <td>96.0</td>\n",
       "      <td>130.0</td>\n",
       "      <td>209.0</td>\n",
       "      <td>No</td>\n",
       "      <td>No</td>\n",
       "    </tr>\n",
       "    <tr>\n",
       "      <th>197268</th>\n",
       "      <td>97269.0</td>\n",
       "      <td>NaN</td>\n",
       "      <td>Female</td>\n",
       "      <td>198.565988</td>\n",
       "      <td>67.405975</td>\n",
       "      <td>A</td>\n",
       "      <td>17.095770</td>\n",
       "      <td>98.883892</td>\n",
       "      <td>69.0</td>\n",
       "      <td>119.0</td>\n",
       "      <td>NaN</td>\n",
       "      <td>No</td>\n",
       "      <td>No</td>\n",
       "    </tr>\n",
       "    <tr>\n",
       "      <th>65809</th>\n",
       "      <td>65810.0</td>\n",
       "      <td>30.0</td>\n",
       "      <td>Male</td>\n",
       "      <td>176.240978</td>\n",
       "      <td>86.892154</td>\n",
       "      <td>AB</td>\n",
       "      <td>27.974786</td>\n",
       "      <td>98.587099</td>\n",
       "      <td>85.0</td>\n",
       "      <td>105.0</td>\n",
       "      <td>239.0</td>\n",
       "      <td>NaN</td>\n",
       "      <td>No</td>\n",
       "    </tr>\n",
       "  </tbody>\n",
       "</table>\n",
       "</div>"
      ],
      "text/plain": [
       "        Student ID   Age  Gender      Height     Weight Blood Type        BMI  \\\n",
       "97532      97533.0  24.0    Male  167.694625  55.635829          O  19.784099   \n",
       "70166      70167.0  34.0    Male  181.479032  97.815454         AB  29.699871   \n",
       "136          137.0  18.0     NaN  181.297913  83.552679          B        NaN   \n",
       "197268     97269.0   NaN  Female  198.565988  67.405975          A  17.095770   \n",
       "65809      65810.0  30.0    Male  176.240978  86.892154         AB  27.974786   \n",
       "\n",
       "        Temperature  Heart Rate  Blood Pressure  Cholesterol Diabetes Smoking  \n",
       "97532     99.361936        81.0             NaN          NaN      Yes      No  \n",
       "70166     98.288009        97.0           120.0        208.0       No      No  \n",
       "136       98.073156        96.0           130.0        209.0       No      No  \n",
       "197268    98.883892        69.0           119.0          NaN       No      No  \n",
       "65809     98.587099        85.0           105.0        239.0      NaN      No  "
      ]
     },
     "execution_count": 261,
     "metadata": {},
     "output_type": "execute_result"
    }
   ],
   "source": [
    "data.head()"
   ]
  },
  {
   "cell_type": "code",
   "execution_count": 262,
   "id": "d71d3eb5",
   "metadata": {},
   "outputs": [
    {
     "data": {
      "text/html": [
       "<div>\n",
       "<style scoped>\n",
       "    .dataframe tbody tr th:only-of-type {\n",
       "        vertical-align: middle;\n",
       "    }\n",
       "\n",
       "    .dataframe tbody tr th {\n",
       "        vertical-align: top;\n",
       "    }\n",
       "\n",
       "    .dataframe thead th {\n",
       "        text-align: right;\n",
       "    }\n",
       "</style>\n",
       "<table border=\"1\" class=\"dataframe\">\n",
       "  <thead>\n",
       "    <tr style=\"text-align: right;\">\n",
       "      <th></th>\n",
       "      <th>Student ID</th>\n",
       "      <th>Age</th>\n",
       "      <th>Gender</th>\n",
       "      <th>Height</th>\n",
       "      <th>Weight</th>\n",
       "      <th>Blood Type</th>\n",
       "      <th>BMI</th>\n",
       "      <th>Temperature</th>\n",
       "      <th>Heart Rate</th>\n",
       "      <th>Blood Pressure</th>\n",
       "      <th>Cholesterol</th>\n",
       "      <th>Diabetes</th>\n",
       "      <th>Smoking</th>\n",
       "    </tr>\n",
       "  </thead>\n",
       "  <tbody>\n",
       "    <tr>\n",
       "      <th>0</th>\n",
       "      <td>97533.0</td>\n",
       "      <td>24.0</td>\n",
       "      <td>Male</td>\n",
       "      <td>167.694625</td>\n",
       "      <td>55.635829</td>\n",
       "      <td>O</td>\n",
       "      <td>19.784099</td>\n",
       "      <td>99.361936</td>\n",
       "      <td>81.0</td>\n",
       "      <td>NaN</td>\n",
       "      <td>NaN</td>\n",
       "      <td>Yes</td>\n",
       "      <td>No</td>\n",
       "    </tr>\n",
       "    <tr>\n",
       "      <th>1</th>\n",
       "      <td>70167.0</td>\n",
       "      <td>34.0</td>\n",
       "      <td>Male</td>\n",
       "      <td>181.479032</td>\n",
       "      <td>97.815454</td>\n",
       "      <td>AB</td>\n",
       "      <td>29.699871</td>\n",
       "      <td>98.288009</td>\n",
       "      <td>97.0</td>\n",
       "      <td>120.0</td>\n",
       "      <td>208.0</td>\n",
       "      <td>No</td>\n",
       "      <td>No</td>\n",
       "    </tr>\n",
       "    <tr>\n",
       "      <th>2</th>\n",
       "      <td>137.0</td>\n",
       "      <td>18.0</td>\n",
       "      <td>NaN</td>\n",
       "      <td>181.297913</td>\n",
       "      <td>83.552679</td>\n",
       "      <td>B</td>\n",
       "      <td>NaN</td>\n",
       "      <td>98.073156</td>\n",
       "      <td>96.0</td>\n",
       "      <td>130.0</td>\n",
       "      <td>209.0</td>\n",
       "      <td>No</td>\n",
       "      <td>No</td>\n",
       "    </tr>\n",
       "    <tr>\n",
       "      <th>3</th>\n",
       "      <td>97269.0</td>\n",
       "      <td>NaN</td>\n",
       "      <td>Female</td>\n",
       "      <td>198.565988</td>\n",
       "      <td>67.405975</td>\n",
       "      <td>A</td>\n",
       "      <td>17.095770</td>\n",
       "      <td>98.883892</td>\n",
       "      <td>69.0</td>\n",
       "      <td>119.0</td>\n",
       "      <td>NaN</td>\n",
       "      <td>No</td>\n",
       "      <td>No</td>\n",
       "    </tr>\n",
       "    <tr>\n",
       "      <th>4</th>\n",
       "      <td>65810.0</td>\n",
       "      <td>30.0</td>\n",
       "      <td>Male</td>\n",
       "      <td>176.240978</td>\n",
       "      <td>86.892154</td>\n",
       "      <td>AB</td>\n",
       "      <td>27.974786</td>\n",
       "      <td>98.587099</td>\n",
       "      <td>85.0</td>\n",
       "      <td>105.0</td>\n",
       "      <td>239.0</td>\n",
       "      <td>NaN</td>\n",
       "      <td>No</td>\n",
       "    </tr>\n",
       "  </tbody>\n",
       "</table>\n",
       "</div>"
      ],
      "text/plain": [
       "   Student ID   Age  Gender      Height     Weight Blood Type        BMI  \\\n",
       "0     97533.0  24.0    Male  167.694625  55.635829          O  19.784099   \n",
       "1     70167.0  34.0    Male  181.479032  97.815454         AB  29.699871   \n",
       "2       137.0  18.0     NaN  181.297913  83.552679          B        NaN   \n",
       "3     97269.0   NaN  Female  198.565988  67.405975          A  17.095770   \n",
       "4     65810.0  30.0    Male  176.240978  86.892154         AB  27.974786   \n",
       "\n",
       "   Temperature  Heart Rate  Blood Pressure  Cholesterol Diabetes Smoking  \n",
       "0    99.361936        81.0             NaN          NaN      Yes      No  \n",
       "1    98.288009        97.0           120.0        208.0       No      No  \n",
       "2    98.073156        96.0           130.0        209.0       No      No  \n",
       "3    98.883892        69.0           119.0          NaN       No      No  \n",
       "4    98.587099        85.0           105.0        239.0      NaN      No  "
      ]
     },
     "execution_count": 262,
     "metadata": {},
     "output_type": "execute_result"
    }
   ],
   "source": [
    "data.reset_index(drop=True, inplace=True)\n",
    "data.head()"
   ]
  },
  {
   "cell_type": "markdown",
   "id": "b5a3c3c2",
   "metadata": {},
   "source": [
    "## Removing duplicated data"
   ]
  },
  {
   "cell_type": "code",
   "execution_count": 263,
   "id": "66706d79",
   "metadata": {
    "execution": {
     "iopub.execute_input": "2023-07-31T15:08:10.143321Z",
     "iopub.status.busy": "2023-07-31T15:08:10.142797Z",
     "iopub.status.idle": "2023-07-31T15:08:10.426534Z",
     "shell.execute_reply": "2023-07-31T15:08:10.425294Z"
    },
    "papermill": {
     "duration": 0.307114,
     "end_time": "2023-07-31T15:08:10.429428",
     "exception": false,
     "start_time": "2023-07-31T15:08:10.122314",
     "status": "completed"
    },
    "tags": []
   },
   "outputs": [
    {
     "name": "stdout",
     "output_type": "stream",
     "text": [
      "83\n",
      "0\n"
     ]
    }
   ],
   "source": [
    "print(data.duplicated().sum())\n",
    "data.drop_duplicates(keep='last', inplace=True)\n",
    "print(data.duplicated().sum())"
   ]
  },
  {
   "cell_type": "code",
   "execution_count": 264,
   "id": "6e22d30a",
   "metadata": {},
   "outputs": [
    {
     "name": "stdout",
     "output_type": "stream",
     "text": [
      "<class 'pandas.core.frame.DataFrame'>\n",
      "Int64Index: 19917 entries, 0 to 19999\n",
      "Data columns (total 13 columns):\n",
      " #   Column          Non-Null Count  Dtype  \n",
      "---  ------          --------------  -----  \n",
      " 0   Student ID      17997 non-null  float64\n",
      " 1   Age             17925 non-null  float64\n",
      " 2   Gender          17959 non-null  object \n",
      " 3   Height          17995 non-null  float64\n",
      " 4   Weight          17944 non-null  float64\n",
      " 5   Blood Type      17962 non-null  object \n",
      " 6   BMI             17913 non-null  float64\n",
      " 7   Temperature     17892 non-null  float64\n",
      " 8   Heart Rate      17914 non-null  float64\n",
      " 9   Blood Pressure  17898 non-null  float64\n",
      " 10  Cholesterol     17963 non-null  float64\n",
      " 11  Diabetes        17851 non-null  object \n",
      " 12  Smoking         17874 non-null  object \n",
      "dtypes: float64(9), object(4)\n",
      "memory usage: 2.1+ MB\n"
     ]
    }
   ],
   "source": [
    "data.info()"
   ]
  },
  {
   "cell_type": "code",
   "execution_count": 265,
   "id": "cd6c3729",
   "metadata": {
    "execution": {
     "iopub.execute_input": "2023-07-31T15:08:10.469554Z",
     "iopub.status.busy": "2023-07-31T15:08:10.469081Z",
     "iopub.status.idle": "2023-07-31T15:08:10.730396Z",
     "shell.execute_reply": "2023-07-31T15:08:10.728945Z"
    },
    "papermill": {
     "duration": 0.284656,
     "end_time": "2023-07-31T15:08:10.733110",
     "exception": false,
     "start_time": "2023-07-31T15:08:10.448454",
     "status": "completed"
    },
    "tags": []
   },
   "outputs": [
    {
     "data": {
      "text/plain": [
       "Student ID        1920\n",
       "Age               1992\n",
       "Gender            1958\n",
       "Height            1922\n",
       "Weight            1973\n",
       "Blood Type        1955\n",
       "BMI               2004\n",
       "Temperature       2025\n",
       "Heart Rate        2003\n",
       "Blood Pressure    2019\n",
       "Cholesterol       1954\n",
       "Diabetes          2066\n",
       "Smoking           2043\n",
       "dtype: int64"
      ]
     },
     "execution_count": 265,
     "metadata": {},
     "output_type": "execute_result"
    }
   ],
   "source": [
    "data.isna().sum()"
   ]
  },
  {
   "cell_type": "code",
   "execution_count": 266,
   "id": "eef1c07d",
   "metadata": {
    "execution": {
     "iopub.execute_input": "2023-07-31T15:08:10.879465Z",
     "iopub.status.busy": "2023-07-31T15:08:10.878994Z",
     "iopub.status.idle": "2023-07-31T15:08:10.902936Z",
     "shell.execute_reply": "2023-07-31T15:08:10.901691Z"
    },
    "papermill": {
     "duration": 0.047219,
     "end_time": "2023-07-31T15:08:10.905707",
     "exception": false,
     "start_time": "2023-07-31T15:08:10.858488",
     "status": "completed"
    },
    "tags": []
   },
   "outputs": [
    {
     "data": {
      "text/html": [
       "<div>\n",
       "<style scoped>\n",
       "    .dataframe tbody tr th:only-of-type {\n",
       "        vertical-align: middle;\n",
       "    }\n",
       "\n",
       "    .dataframe tbody tr th {\n",
       "        vertical-align: top;\n",
       "    }\n",
       "\n",
       "    .dataframe thead th {\n",
       "        text-align: right;\n",
       "    }\n",
       "</style>\n",
       "<table border=\"1\" class=\"dataframe\">\n",
       "  <thead>\n",
       "    <tr style=\"text-align: right;\">\n",
       "      <th></th>\n",
       "      <th>Student ID</th>\n",
       "      <th>Age</th>\n",
       "      <th>Gender</th>\n",
       "      <th>Height</th>\n",
       "      <th>Weight</th>\n",
       "      <th>Blood Type</th>\n",
       "      <th>BMI</th>\n",
       "      <th>Temperature</th>\n",
       "      <th>Heart Rate</th>\n",
       "      <th>Blood Pressure</th>\n",
       "      <th>Cholesterol</th>\n",
       "      <th>Diabetes</th>\n",
       "      <th>Smoking</th>\n",
       "    </tr>\n",
       "  </thead>\n",
       "  <tbody>\n",
       "    <tr>\n",
       "      <th>0</th>\n",
       "      <td>97533.0</td>\n",
       "      <td>24.0</td>\n",
       "      <td>Male</td>\n",
       "      <td>167.694625</td>\n",
       "      <td>55.635829</td>\n",
       "      <td>O</td>\n",
       "      <td>19.784099</td>\n",
       "      <td>99.361936</td>\n",
       "      <td>81.0</td>\n",
       "      <td>NaN</td>\n",
       "      <td>NaN</td>\n",
       "      <td>Yes</td>\n",
       "      <td>No</td>\n",
       "    </tr>\n",
       "    <tr>\n",
       "      <th>1</th>\n",
       "      <td>70167.0</td>\n",
       "      <td>34.0</td>\n",
       "      <td>Male</td>\n",
       "      <td>181.479032</td>\n",
       "      <td>97.815454</td>\n",
       "      <td>AB</td>\n",
       "      <td>29.699871</td>\n",
       "      <td>98.288009</td>\n",
       "      <td>97.0</td>\n",
       "      <td>120.0</td>\n",
       "      <td>208.0</td>\n",
       "      <td>No</td>\n",
       "      <td>No</td>\n",
       "    </tr>\n",
       "    <tr>\n",
       "      <th>2</th>\n",
       "      <td>137.0</td>\n",
       "      <td>18.0</td>\n",
       "      <td>NaN</td>\n",
       "      <td>181.297913</td>\n",
       "      <td>83.552679</td>\n",
       "      <td>B</td>\n",
       "      <td>NaN</td>\n",
       "      <td>98.073156</td>\n",
       "      <td>96.0</td>\n",
       "      <td>130.0</td>\n",
       "      <td>209.0</td>\n",
       "      <td>No</td>\n",
       "      <td>No</td>\n",
       "    </tr>\n",
       "    <tr>\n",
       "      <th>3</th>\n",
       "      <td>97269.0</td>\n",
       "      <td>NaN</td>\n",
       "      <td>Female</td>\n",
       "      <td>198.565988</td>\n",
       "      <td>67.405975</td>\n",
       "      <td>A</td>\n",
       "      <td>17.095770</td>\n",
       "      <td>98.883892</td>\n",
       "      <td>69.0</td>\n",
       "      <td>119.0</td>\n",
       "      <td>NaN</td>\n",
       "      <td>No</td>\n",
       "      <td>No</td>\n",
       "    </tr>\n",
       "    <tr>\n",
       "      <th>4</th>\n",
       "      <td>65810.0</td>\n",
       "      <td>30.0</td>\n",
       "      <td>Male</td>\n",
       "      <td>176.240978</td>\n",
       "      <td>86.892154</td>\n",
       "      <td>AB</td>\n",
       "      <td>27.974786</td>\n",
       "      <td>98.587099</td>\n",
       "      <td>85.0</td>\n",
       "      <td>105.0</td>\n",
       "      <td>239.0</td>\n",
       "      <td>NaN</td>\n",
       "      <td>No</td>\n",
       "    </tr>\n",
       "  </tbody>\n",
       "</table>\n",
       "</div>"
      ],
      "text/plain": [
       "   Student ID   Age  Gender      Height     Weight Blood Type        BMI  \\\n",
       "0     97533.0  24.0    Male  167.694625  55.635829          O  19.784099   \n",
       "1     70167.0  34.0    Male  181.479032  97.815454         AB  29.699871   \n",
       "2       137.0  18.0     NaN  181.297913  83.552679          B        NaN   \n",
       "3     97269.0   NaN  Female  198.565988  67.405975          A  17.095770   \n",
       "4     65810.0  30.0    Male  176.240978  86.892154         AB  27.974786   \n",
       "\n",
       "   Temperature  Heart Rate  Blood Pressure  Cholesterol Diabetes Smoking  \n",
       "0    99.361936        81.0             NaN          NaN      Yes      No  \n",
       "1    98.288009        97.0           120.0        208.0       No      No  \n",
       "2    98.073156        96.0           130.0        209.0       No      No  \n",
       "3    98.883892        69.0           119.0          NaN       No      No  \n",
       "4    98.587099        85.0           105.0        239.0      NaN      No  "
      ]
     },
     "execution_count": 266,
     "metadata": {},
     "output_type": "execute_result"
    }
   ],
   "source": [
    "data.head()"
   ]
  },
  {
   "cell_type": "markdown",
   "id": "c1aa7879",
   "metadata": {},
   "source": [
    "## Dropping Student ID as it does not add any info."
   ]
  },
  {
   "cell_type": "code",
   "execution_count": 267,
   "id": "cda74aa1",
   "metadata": {},
   "outputs": [
    {
     "data": {
      "text/html": [
       "<div>\n",
       "<style scoped>\n",
       "    .dataframe tbody tr th:only-of-type {\n",
       "        vertical-align: middle;\n",
       "    }\n",
       "\n",
       "    .dataframe tbody tr th {\n",
       "        vertical-align: top;\n",
       "    }\n",
       "\n",
       "    .dataframe thead th {\n",
       "        text-align: right;\n",
       "    }\n",
       "</style>\n",
       "<table border=\"1\" class=\"dataframe\">\n",
       "  <thead>\n",
       "    <tr style=\"text-align: right;\">\n",
       "      <th></th>\n",
       "      <th>Age</th>\n",
       "      <th>Gender</th>\n",
       "      <th>Height</th>\n",
       "      <th>Weight</th>\n",
       "      <th>Blood Type</th>\n",
       "      <th>BMI</th>\n",
       "      <th>Temperature</th>\n",
       "      <th>Heart Rate</th>\n",
       "      <th>Blood Pressure</th>\n",
       "      <th>Cholesterol</th>\n",
       "      <th>Diabetes</th>\n",
       "      <th>Smoking</th>\n",
       "    </tr>\n",
       "  </thead>\n",
       "  <tbody>\n",
       "    <tr>\n",
       "      <th>0</th>\n",
       "      <td>24.0</td>\n",
       "      <td>Male</td>\n",
       "      <td>167.694625</td>\n",
       "      <td>55.635829</td>\n",
       "      <td>O</td>\n",
       "      <td>19.784099</td>\n",
       "      <td>99.361936</td>\n",
       "      <td>81.0</td>\n",
       "      <td>NaN</td>\n",
       "      <td>NaN</td>\n",
       "      <td>Yes</td>\n",
       "      <td>No</td>\n",
       "    </tr>\n",
       "    <tr>\n",
       "      <th>1</th>\n",
       "      <td>34.0</td>\n",
       "      <td>Male</td>\n",
       "      <td>181.479032</td>\n",
       "      <td>97.815454</td>\n",
       "      <td>AB</td>\n",
       "      <td>29.699871</td>\n",
       "      <td>98.288009</td>\n",
       "      <td>97.0</td>\n",
       "      <td>120.0</td>\n",
       "      <td>208.0</td>\n",
       "      <td>No</td>\n",
       "      <td>No</td>\n",
       "    </tr>\n",
       "    <tr>\n",
       "      <th>2</th>\n",
       "      <td>18.0</td>\n",
       "      <td>NaN</td>\n",
       "      <td>181.297913</td>\n",
       "      <td>83.552679</td>\n",
       "      <td>B</td>\n",
       "      <td>NaN</td>\n",
       "      <td>98.073156</td>\n",
       "      <td>96.0</td>\n",
       "      <td>130.0</td>\n",
       "      <td>209.0</td>\n",
       "      <td>No</td>\n",
       "      <td>No</td>\n",
       "    </tr>\n",
       "    <tr>\n",
       "      <th>3</th>\n",
       "      <td>NaN</td>\n",
       "      <td>Female</td>\n",
       "      <td>198.565988</td>\n",
       "      <td>67.405975</td>\n",
       "      <td>A</td>\n",
       "      <td>17.095770</td>\n",
       "      <td>98.883892</td>\n",
       "      <td>69.0</td>\n",
       "      <td>119.0</td>\n",
       "      <td>NaN</td>\n",
       "      <td>No</td>\n",
       "      <td>No</td>\n",
       "    </tr>\n",
       "    <tr>\n",
       "      <th>4</th>\n",
       "      <td>30.0</td>\n",
       "      <td>Male</td>\n",
       "      <td>176.240978</td>\n",
       "      <td>86.892154</td>\n",
       "      <td>AB</td>\n",
       "      <td>27.974786</td>\n",
       "      <td>98.587099</td>\n",
       "      <td>85.0</td>\n",
       "      <td>105.0</td>\n",
       "      <td>239.0</td>\n",
       "      <td>NaN</td>\n",
       "      <td>No</td>\n",
       "    </tr>\n",
       "  </tbody>\n",
       "</table>\n",
       "</div>"
      ],
      "text/plain": [
       "    Age  Gender      Height     Weight Blood Type        BMI  Temperature  \\\n",
       "0  24.0    Male  167.694625  55.635829          O  19.784099    99.361936   \n",
       "1  34.0    Male  181.479032  97.815454         AB  29.699871    98.288009   \n",
       "2  18.0     NaN  181.297913  83.552679          B        NaN    98.073156   \n",
       "3   NaN  Female  198.565988  67.405975          A  17.095770    98.883892   \n",
       "4  30.0    Male  176.240978  86.892154         AB  27.974786    98.587099   \n",
       "\n",
       "   Heart Rate  Blood Pressure  Cholesterol Diabetes Smoking  \n",
       "0        81.0             NaN          NaN      Yes      No  \n",
       "1        97.0           120.0        208.0       No      No  \n",
       "2        96.0           130.0        209.0       No      No  \n",
       "3        69.0           119.0          NaN       No      No  \n",
       "4        85.0           105.0        239.0      NaN      No  "
      ]
     },
     "execution_count": 267,
     "metadata": {},
     "output_type": "execute_result"
    }
   ],
   "source": [
    "data.drop('Student ID', axis=1, inplace=True)\n",
    "data.head()"
   ]
  },
  {
   "cell_type": "code",
   "execution_count": null,
   "id": "b79f6264",
   "metadata": {},
   "outputs": [],
   "source": []
  },
  {
   "cell_type": "markdown",
   "id": "09a52e78",
   "metadata": {
    "papermill": {
     "duration": 0.018551,
     "end_time": "2023-07-31T15:08:10.839462",
     "exception": false,
     "start_time": "2023-07-31T15:08:10.820911",
     "status": "completed"
    },
    "tags": []
   },
   "source": [
    "## Filling missing numerical features"
   ]
  },
  {
   "cell_type": "markdown",
   "id": "d917d6a1",
   "metadata": {
    "papermill": {
     "duration": 0.019354,
     "end_time": "2023-07-31T15:08:11.041896",
     "exception": false,
     "start_time": "2023-07-31T15:08:11.022542",
     "status": "completed"
    },
    "tags": []
   },
   "source": [
    "### We can fill them by the MEDIAN of each column(Exept for the column 'BMI', which is derived from two columns 'Height' and 'Weight')"
   ]
  },
  {
   "cell_type": "code",
   "execution_count": 268,
   "id": "4076f4ab",
   "metadata": {},
   "outputs": [
    {
     "data": {
      "text/html": [
       "<div>\n",
       "<style scoped>\n",
       "    .dataframe tbody tr th:only-of-type {\n",
       "        vertical-align: middle;\n",
       "    }\n",
       "\n",
       "    .dataframe tbody tr th {\n",
       "        vertical-align: top;\n",
       "    }\n",
       "\n",
       "    .dataframe thead th {\n",
       "        text-align: right;\n",
       "    }\n",
       "</style>\n",
       "<table border=\"1\" class=\"dataframe\">\n",
       "  <thead>\n",
       "    <tr style=\"text-align: right;\">\n",
       "      <th></th>\n",
       "      <th>Age</th>\n",
       "      <th>Height</th>\n",
       "      <th>Weight</th>\n",
       "      <th>BMI</th>\n",
       "      <th>Temperature</th>\n",
       "      <th>Heart Rate</th>\n",
       "      <th>Blood Pressure</th>\n",
       "      <th>Cholesterol</th>\n",
       "    </tr>\n",
       "  </thead>\n",
       "  <tbody>\n",
       "    <tr>\n",
       "      <th>count</th>\n",
       "      <td>17925.000000</td>\n",
       "      <td>17995.000000</td>\n",
       "      <td>17944.000000</td>\n",
       "      <td>17913.000000</td>\n",
       "      <td>17892.000000</td>\n",
       "      <td>17914.000000</td>\n",
       "      <td>17898.000000</td>\n",
       "      <td>17963.000000</td>\n",
       "    </tr>\n",
       "    <tr>\n",
       "      <th>mean</th>\n",
       "      <td>25.971269</td>\n",
       "      <td>175.154815</td>\n",
       "      <td>69.923140</td>\n",
       "      <td>23.285221</td>\n",
       "      <td>98.600774</td>\n",
       "      <td>79.539466</td>\n",
       "      <td>114.648955</td>\n",
       "      <td>184.619885</td>\n",
       "    </tr>\n",
       "    <tr>\n",
       "      <th>std</th>\n",
       "      <td>4.906525</td>\n",
       "      <td>14.457933</td>\n",
       "      <td>17.320143</td>\n",
       "      <td>7.012289</td>\n",
       "      <td>0.496856</td>\n",
       "      <td>11.618757</td>\n",
       "      <td>14.407350</td>\n",
       "      <td>37.427023</td>\n",
       "    </tr>\n",
       "    <tr>\n",
       "      <th>min</th>\n",
       "      <td>18.000000</td>\n",
       "      <td>150.002125</td>\n",
       "      <td>40.000718</td>\n",
       "      <td>10.081431</td>\n",
       "      <td>96.693895</td>\n",
       "      <td>60.000000</td>\n",
       "      <td>90.000000</td>\n",
       "      <td>120.000000</td>\n",
       "    </tr>\n",
       "    <tr>\n",
       "      <th>25%</th>\n",
       "      <td>22.000000</td>\n",
       "      <td>162.716202</td>\n",
       "      <td>54.969337</td>\n",
       "      <td>17.858778</td>\n",
       "      <td>98.267386</td>\n",
       "      <td>69.000000</td>\n",
       "      <td>102.000000</td>\n",
       "      <td>153.000000</td>\n",
       "    </tr>\n",
       "    <tr>\n",
       "      <th>50%</th>\n",
       "      <td>26.000000</td>\n",
       "      <td>175.173662</td>\n",
       "      <td>69.985652</td>\n",
       "      <td>22.641058</td>\n",
       "      <td>98.596762</td>\n",
       "      <td>79.000000</td>\n",
       "      <td>115.000000</td>\n",
       "      <td>184.000000</td>\n",
       "    </tr>\n",
       "    <tr>\n",
       "      <th>75%</th>\n",
       "      <td>30.000000</td>\n",
       "      <td>187.747737</td>\n",
       "      <td>84.825725</td>\n",
       "      <td>27.918818</td>\n",
       "      <td>98.941012</td>\n",
       "      <td>90.000000</td>\n",
       "      <td>127.000000</td>\n",
       "      <td>217.000000</td>\n",
       "    </tr>\n",
       "    <tr>\n",
       "      <th>max</th>\n",
       "      <td>34.000000</td>\n",
       "      <td>199.996834</td>\n",
       "      <td>99.995879</td>\n",
       "      <td>44.288003</td>\n",
       "      <td>100.612816</td>\n",
       "      <td>99.000000</td>\n",
       "      <td>139.000000</td>\n",
       "      <td>249.000000</td>\n",
       "    </tr>\n",
       "  </tbody>\n",
       "</table>\n",
       "</div>"
      ],
      "text/plain": [
       "                Age        Height        Weight           BMI   Temperature  \\\n",
       "count  17925.000000  17995.000000  17944.000000  17913.000000  17892.000000   \n",
       "mean      25.971269    175.154815     69.923140     23.285221     98.600774   \n",
       "std        4.906525     14.457933     17.320143      7.012289      0.496856   \n",
       "min       18.000000    150.002125     40.000718     10.081431     96.693895   \n",
       "25%       22.000000    162.716202     54.969337     17.858778     98.267386   \n",
       "50%       26.000000    175.173662     69.985652     22.641058     98.596762   \n",
       "75%       30.000000    187.747737     84.825725     27.918818     98.941012   \n",
       "max       34.000000    199.996834     99.995879     44.288003    100.612816   \n",
       "\n",
       "         Heart Rate  Blood Pressure   Cholesterol  \n",
       "count  17914.000000    17898.000000  17963.000000  \n",
       "mean      79.539466      114.648955    184.619885  \n",
       "std       11.618757       14.407350     37.427023  \n",
       "min       60.000000       90.000000    120.000000  \n",
       "25%       69.000000      102.000000    153.000000  \n",
       "50%       79.000000      115.000000    184.000000  \n",
       "75%       90.000000      127.000000    217.000000  \n",
       "max       99.000000      139.000000    249.000000  "
      ]
     },
     "execution_count": 268,
     "metadata": {},
     "output_type": "execute_result"
    }
   ],
   "source": [
    "data.describe()"
   ]
  },
  {
   "cell_type": "code",
   "execution_count": 269,
   "id": "69bd86f3",
   "metadata": {
    "execution": {
     "iopub.execute_input": "2023-07-31T15:08:11.084665Z",
     "iopub.status.busy": "2023-07-31T15:08:11.084190Z",
     "iopub.status.idle": "2023-07-31T15:08:11.230275Z",
     "shell.execute_reply": "2023-07-31T15:08:11.229193Z"
    },
    "papermill": {
     "duration": 0.170618,
     "end_time": "2023-07-31T15:08:11.232732",
     "exception": false,
     "start_time": "2023-07-31T15:08:11.062114",
     "status": "completed"
    },
    "tags": []
   },
   "outputs": [
    {
     "data": {
      "text/plain": [
       "Index(['Age', 'Height', 'Weight', 'Temperature', 'Heart Rate',\n",
       "       'Blood Pressure', 'Cholesterol'],\n",
       "      dtype='object')"
      ]
     },
     "execution_count": 269,
     "metadata": {},
     "output_type": "execute_result"
    }
   ],
   "source": [
    "numerical_features = data.describe().columns.drop('BMI')\n",
    "numerical_features"
   ]
  },
  {
   "cell_type": "code",
   "execution_count": 270,
   "id": "ade2405e",
   "metadata": {
    "execution": {
     "iopub.execute_input": "2023-07-31T15:08:11.275731Z",
     "iopub.status.busy": "2023-07-31T15:08:11.275246Z",
     "iopub.status.idle": "2023-07-31T15:08:11.339693Z",
     "shell.execute_reply": "2023-07-31T15:08:11.338588Z"
    },
    "papermill": {
     "duration": 0.089713,
     "end_time": "2023-07-31T15:08:11.342849",
     "exception": false,
     "start_time": "2023-07-31T15:08:11.253136",
     "status": "completed"
    },
    "tags": []
   },
   "outputs": [],
   "source": [
    "for col in numerical_features:\n",
    "    data[col] = data[col].fillna(data[col].median())"
   ]
  },
  {
   "cell_type": "code",
   "execution_count": 271,
   "id": "013302f1",
   "metadata": {
    "execution": {
     "iopub.execute_input": "2023-07-31T15:08:11.387379Z",
     "iopub.status.busy": "2023-07-31T15:08:11.386930Z",
     "iopub.status.idle": "2023-07-31T15:08:11.394392Z",
     "shell.execute_reply": "2023-07-31T15:08:11.393215Z"
    },
    "papermill": {
     "duration": 0.032957,
     "end_time": "2023-07-31T15:08:11.397189",
     "exception": false,
     "start_time": "2023-07-31T15:08:11.364232",
     "status": "completed"
    },
    "tags": []
   },
   "outputs": [],
   "source": [
    "data['BMI'] = (data['Weight'] / pow(data['Height'], 2)) * 10000"
   ]
  },
  {
   "cell_type": "code",
   "execution_count": 272,
   "id": "0425e994",
   "metadata": {
    "execution": {
     "iopub.execute_input": "2023-07-31T15:08:11.440816Z",
     "iopub.status.busy": "2023-07-31T15:08:11.440307Z",
     "iopub.status.idle": "2023-07-31T15:08:11.463354Z",
     "shell.execute_reply": "2023-07-31T15:08:11.461894Z"
    },
    "papermill": {
     "duration": 0.048473,
     "end_time": "2023-07-31T15:08:11.466325",
     "exception": false,
     "start_time": "2023-07-31T15:08:11.417852",
     "status": "completed"
    },
    "tags": []
   },
   "outputs": [
    {
     "data": {
      "text/html": [
       "<div>\n",
       "<style scoped>\n",
       "    .dataframe tbody tr th:only-of-type {\n",
       "        vertical-align: middle;\n",
       "    }\n",
       "\n",
       "    .dataframe tbody tr th {\n",
       "        vertical-align: top;\n",
       "    }\n",
       "\n",
       "    .dataframe thead th {\n",
       "        text-align: right;\n",
       "    }\n",
       "</style>\n",
       "<table border=\"1\" class=\"dataframe\">\n",
       "  <thead>\n",
       "    <tr style=\"text-align: right;\">\n",
       "      <th></th>\n",
       "      <th>Age</th>\n",
       "      <th>Gender</th>\n",
       "      <th>Height</th>\n",
       "      <th>Weight</th>\n",
       "      <th>Blood Type</th>\n",
       "      <th>BMI</th>\n",
       "      <th>Temperature</th>\n",
       "      <th>Heart Rate</th>\n",
       "      <th>Blood Pressure</th>\n",
       "      <th>Cholesterol</th>\n",
       "      <th>Diabetes</th>\n",
       "      <th>Smoking</th>\n",
       "    </tr>\n",
       "  </thead>\n",
       "  <tbody>\n",
       "    <tr>\n",
       "      <th>0</th>\n",
       "      <td>24.0</td>\n",
       "      <td>Male</td>\n",
       "      <td>167.694625</td>\n",
       "      <td>55.635829</td>\n",
       "      <td>O</td>\n",
       "      <td>19.784099</td>\n",
       "      <td>99.361936</td>\n",
       "      <td>81.0</td>\n",
       "      <td>115.0</td>\n",
       "      <td>184.0</td>\n",
       "      <td>Yes</td>\n",
       "      <td>No</td>\n",
       "    </tr>\n",
       "    <tr>\n",
       "      <th>1</th>\n",
       "      <td>34.0</td>\n",
       "      <td>Male</td>\n",
       "      <td>181.479032</td>\n",
       "      <td>97.815454</td>\n",
       "      <td>AB</td>\n",
       "      <td>29.699871</td>\n",
       "      <td>98.288009</td>\n",
       "      <td>97.0</td>\n",
       "      <td>120.0</td>\n",
       "      <td>208.0</td>\n",
       "      <td>No</td>\n",
       "      <td>No</td>\n",
       "    </tr>\n",
       "    <tr>\n",
       "      <th>2</th>\n",
       "      <td>18.0</td>\n",
       "      <td>NaN</td>\n",
       "      <td>181.297913</td>\n",
       "      <td>83.552679</td>\n",
       "      <td>B</td>\n",
       "      <td>25.419955</td>\n",
       "      <td>98.073156</td>\n",
       "      <td>96.0</td>\n",
       "      <td>130.0</td>\n",
       "      <td>209.0</td>\n",
       "      <td>No</td>\n",
       "      <td>No</td>\n",
       "    </tr>\n",
       "    <tr>\n",
       "      <th>3</th>\n",
       "      <td>26.0</td>\n",
       "      <td>Female</td>\n",
       "      <td>198.565988</td>\n",
       "      <td>67.405975</td>\n",
       "      <td>A</td>\n",
       "      <td>17.095770</td>\n",
       "      <td>98.883892</td>\n",
       "      <td>69.0</td>\n",
       "      <td>119.0</td>\n",
       "      <td>184.0</td>\n",
       "      <td>No</td>\n",
       "      <td>No</td>\n",
       "    </tr>\n",
       "    <tr>\n",
       "      <th>4</th>\n",
       "      <td>30.0</td>\n",
       "      <td>Male</td>\n",
       "      <td>176.240978</td>\n",
       "      <td>86.892154</td>\n",
       "      <td>AB</td>\n",
       "      <td>27.974786</td>\n",
       "      <td>98.587099</td>\n",
       "      <td>85.0</td>\n",
       "      <td>105.0</td>\n",
       "      <td>239.0</td>\n",
       "      <td>NaN</td>\n",
       "      <td>No</td>\n",
       "    </tr>\n",
       "  </tbody>\n",
       "</table>\n",
       "</div>"
      ],
      "text/plain": [
       "    Age  Gender      Height     Weight Blood Type        BMI  Temperature  \\\n",
       "0  24.0    Male  167.694625  55.635829          O  19.784099    99.361936   \n",
       "1  34.0    Male  181.479032  97.815454         AB  29.699871    98.288009   \n",
       "2  18.0     NaN  181.297913  83.552679          B  25.419955    98.073156   \n",
       "3  26.0  Female  198.565988  67.405975          A  17.095770    98.883892   \n",
       "4  30.0    Male  176.240978  86.892154         AB  27.974786    98.587099   \n",
       "\n",
       "   Heart Rate  Blood Pressure  Cholesterol Diabetes Smoking  \n",
       "0        81.0           115.0        184.0      Yes      No  \n",
       "1        97.0           120.0        208.0       No      No  \n",
       "2        96.0           130.0        209.0       No      No  \n",
       "3        69.0           119.0        184.0       No      No  \n",
       "4        85.0           105.0        239.0      NaN      No  "
      ]
     },
     "execution_count": 272,
     "metadata": {},
     "output_type": "execute_result"
    }
   ],
   "source": [
    "data.head()"
   ]
  },
  {
   "cell_type": "code",
   "execution_count": 273,
   "id": "ece396e5",
   "metadata": {
    "execution": {
     "iopub.execute_input": "2023-07-31T15:08:11.550798Z",
     "iopub.status.busy": "2023-07-31T15:08:11.550289Z",
     "iopub.status.idle": "2023-07-31T15:08:11.814389Z",
     "shell.execute_reply": "2023-07-31T15:08:11.813005Z"
    },
    "papermill": {
     "duration": 0.289052,
     "end_time": "2023-07-31T15:08:11.817139",
     "exception": false,
     "start_time": "2023-07-31T15:08:11.528087",
     "status": "completed"
    },
    "tags": []
   },
   "outputs": [
    {
     "data": {
      "text/plain": [
       "Age                  0\n",
       "Gender            1958\n",
       "Height               0\n",
       "Weight               0\n",
       "Blood Type        1955\n",
       "BMI                  0\n",
       "Temperature          0\n",
       "Heart Rate           0\n",
       "Blood Pressure       0\n",
       "Cholesterol          0\n",
       "Diabetes          2066\n",
       "Smoking           2043\n",
       "dtype: int64"
      ]
     },
     "execution_count": 273,
     "metadata": {},
     "output_type": "execute_result"
    }
   ],
   "source": [
    "data.isna().sum()"
   ]
  },
  {
   "cell_type": "markdown",
   "id": "56db0dc0",
   "metadata": {
    "papermill": {
     "duration": 0.022179,
     "end_time": "2023-07-31T15:08:16.360960",
     "exception": false,
     "start_time": "2023-07-31T15:08:16.338781",
     "status": "completed"
    },
    "tags": []
   },
   "source": [
    "## Filling non-numerical features"
   ]
  },
  {
   "cell_type": "code",
   "execution_count": 274,
   "id": "abcc8846",
   "metadata": {
    "execution": {
     "iopub.execute_input": "2023-07-31T15:08:16.775271Z",
     "iopub.status.busy": "2023-07-31T15:08:16.774830Z",
     "iopub.status.idle": "2023-07-31T15:08:16.886025Z",
     "shell.execute_reply": "2023-07-31T15:08:16.884856Z"
    },
    "papermill": {
     "duration": 0.13737,
     "end_time": "2023-07-31T15:08:16.888682",
     "exception": false,
     "start_time": "2023-07-31T15:08:16.751312",
     "status": "completed"
    },
    "tags": []
   },
   "outputs": [
    {
     "data": {
      "text/plain": [
       "Index(['Gender', 'Blood Type', 'Diabetes', 'Smoking'], dtype='object')"
      ]
     },
     "execution_count": 274,
     "metadata": {},
     "output_type": "execute_result"
    }
   ],
   "source": [
    "categorical_features = data.columns.drop(data.describe().columns)\n",
    "categorical_features"
   ]
  },
  {
   "cell_type": "code",
   "execution_count": 275,
   "id": "cd1c90b1",
   "metadata": {
    "execution": {
     "iopub.execute_input": "2023-07-31T15:08:16.935676Z",
     "iopub.status.busy": "2023-07-31T15:08:16.934863Z",
     "iopub.status.idle": "2023-07-31T15:08:17.211061Z",
     "shell.execute_reply": "2023-07-31T15:08:17.209722Z"
    },
    "papermill": {
     "duration": 0.302583,
     "end_time": "2023-07-31T15:08:17.213819",
     "exception": false,
     "start_time": "2023-07-31T15:08:16.911236",
     "status": "completed"
    },
    "tags": []
   },
   "outputs": [
    {
     "data": {
      "text/plain": [
       "Gender        1958\n",
       "Blood Type    1955\n",
       "Diabetes      2066\n",
       "Smoking       2043\n",
       "dtype: int64"
      ]
     },
     "execution_count": 275,
     "metadata": {},
     "output_type": "execute_result"
    }
   ],
   "source": [
    "data[categorical_features].isna().sum()"
   ]
  },
  {
   "cell_type": "markdown",
   "id": "faad53e8",
   "metadata": {
    "papermill": {
     "duration": 0.022144,
     "end_time": "2023-07-31T15:08:17.259166",
     "exception": false,
     "start_time": "2023-07-31T15:08:17.237022",
     "status": "completed"
    },
    "tags": []
   },
   "source": [
    "### Cuz the NaN categorical features are quite large, we cannot fill them by most frequent values. Instead, we'd better build a machine learning model based on the numerical features to predict the categorical features. That may ensure the accuracy and consistence for the dataset"
   ]
  },
  {
   "cell_type": "markdown",
   "id": "06013812",
   "metadata": {
    "papermill": {
     "duration": 0.022039,
     "end_time": "2023-07-31T15:08:17.304049",
     "exception": false,
     "start_time": "2023-07-31T15:08:17.282010",
     "status": "completed"
    },
    "tags": []
   },
   "source": [
    "* Prepare data for training machine leaning process"
   ]
  },
  {
   "cell_type": "code",
   "execution_count": 276,
   "id": "1e88afd3",
   "metadata": {
    "execution": {
     "iopub.execute_input": "2023-07-31T15:08:17.351763Z",
     "iopub.status.busy": "2023-07-31T15:08:17.351266Z",
     "iopub.status.idle": "2023-07-31T15:08:17.616586Z",
     "shell.execute_reply": "2023-07-31T15:08:17.615322Z"
    },
    "papermill": {
     "duration": 0.292826,
     "end_time": "2023-07-31T15:08:17.619755",
     "exception": false,
     "start_time": "2023-07-31T15:08:17.326929",
     "status": "completed"
    },
    "tags": []
   },
   "outputs": [],
   "source": [
    "df_ML = data.dropna()"
   ]
  },
  {
   "cell_type": "code",
   "execution_count": 277,
   "id": "965d5618",
   "metadata": {
    "execution": {
     "iopub.execute_input": "2023-07-31T15:08:17.667108Z",
     "iopub.status.busy": "2023-07-31T15:08:17.666618Z",
     "iopub.status.idle": "2023-07-31T15:08:17.687134Z",
     "shell.execute_reply": "2023-07-31T15:08:17.686030Z"
    },
    "papermill": {
     "duration": 0.047369,
     "end_time": "2023-07-31T15:08:17.689806",
     "exception": false,
     "start_time": "2023-07-31T15:08:17.642437",
     "status": "completed"
    },
    "tags": []
   },
   "outputs": [
    {
     "data": {
      "text/html": [
       "<div>\n",
       "<style scoped>\n",
       "    .dataframe tbody tr th:only-of-type {\n",
       "        vertical-align: middle;\n",
       "    }\n",
       "\n",
       "    .dataframe tbody tr th {\n",
       "        vertical-align: top;\n",
       "    }\n",
       "\n",
       "    .dataframe thead th {\n",
       "        text-align: right;\n",
       "    }\n",
       "</style>\n",
       "<table border=\"1\" class=\"dataframe\">\n",
       "  <thead>\n",
       "    <tr style=\"text-align: right;\">\n",
       "      <th></th>\n",
       "      <th>Age</th>\n",
       "      <th>Height</th>\n",
       "      <th>Weight</th>\n",
       "      <th>Temperature</th>\n",
       "      <th>Heart Rate</th>\n",
       "      <th>Blood Pressure</th>\n",
       "      <th>Cholesterol</th>\n",
       "    </tr>\n",
       "  </thead>\n",
       "  <tbody>\n",
       "    <tr>\n",
       "      <th>0</th>\n",
       "      <td>24.0</td>\n",
       "      <td>167.694625</td>\n",
       "      <td>55.635829</td>\n",
       "      <td>99.361936</td>\n",
       "      <td>81.0</td>\n",
       "      <td>115.0</td>\n",
       "      <td>184.0</td>\n",
       "    </tr>\n",
       "    <tr>\n",
       "      <th>1</th>\n",
       "      <td>34.0</td>\n",
       "      <td>181.479032</td>\n",
       "      <td>97.815454</td>\n",
       "      <td>98.288009</td>\n",
       "      <td>97.0</td>\n",
       "      <td>120.0</td>\n",
       "      <td>208.0</td>\n",
       "    </tr>\n",
       "    <tr>\n",
       "      <th>3</th>\n",
       "      <td>26.0</td>\n",
       "      <td>198.565988</td>\n",
       "      <td>67.405975</td>\n",
       "      <td>98.883892</td>\n",
       "      <td>69.0</td>\n",
       "      <td>119.0</td>\n",
       "      <td>184.0</td>\n",
       "    </tr>\n",
       "    <tr>\n",
       "      <th>5</th>\n",
       "      <td>33.0</td>\n",
       "      <td>196.994752</td>\n",
       "      <td>75.174266</td>\n",
       "      <td>98.123552</td>\n",
       "      <td>95.0</td>\n",
       "      <td>129.0</td>\n",
       "      <td>179.0</td>\n",
       "    </tr>\n",
       "    <tr>\n",
       "      <th>6</th>\n",
       "      <td>18.0</td>\n",
       "      <td>199.068889</td>\n",
       "      <td>52.809062</td>\n",
       "      <td>98.854223</td>\n",
       "      <td>71.0</td>\n",
       "      <td>130.0</td>\n",
       "      <td>177.0</td>\n",
       "    </tr>\n",
       "  </tbody>\n",
       "</table>\n",
       "</div>"
      ],
      "text/plain": [
       "    Age      Height     Weight  Temperature  Heart Rate  Blood Pressure  \\\n",
       "0  24.0  167.694625  55.635829    99.361936        81.0           115.0   \n",
       "1  34.0  181.479032  97.815454    98.288009        97.0           120.0   \n",
       "3  26.0  198.565988  67.405975    98.883892        69.0           119.0   \n",
       "5  33.0  196.994752  75.174266    98.123552        95.0           129.0   \n",
       "6  18.0  199.068889  52.809062    98.854223        71.0           130.0   \n",
       "\n",
       "   Cholesterol  \n",
       "0        184.0  \n",
       "1        208.0  \n",
       "3        184.0  \n",
       "5        179.0  \n",
       "6        177.0  "
      ]
     },
     "execution_count": 277,
     "metadata": {},
     "output_type": "execute_result"
    }
   ],
   "source": [
    "# X -> Y\n",
    "X = df_ML[numerical_features]\n",
    "X.head()"
   ]
  },
  {
   "cell_type": "code",
   "execution_count": 278,
   "id": "8fcfa958",
   "metadata": {
    "execution": {
     "iopub.execute_input": "2023-07-31T15:08:17.738452Z",
     "iopub.status.busy": "2023-07-31T15:08:17.737968Z",
     "iopub.status.idle": "2023-07-31T15:08:17.827609Z",
     "shell.execute_reply": "2023-07-31T15:08:17.826564Z"
    },
    "papermill": {
     "duration": 0.1172,
     "end_time": "2023-07-31T15:08:17.830167",
     "exception": false,
     "start_time": "2023-07-31T15:08:17.712967",
     "status": "completed"
    },
    "tags": []
   },
   "outputs": [
    {
     "data": {
      "text/html": [
       "<div>\n",
       "<style scoped>\n",
       "    .dataframe tbody tr th:only-of-type {\n",
       "        vertical-align: middle;\n",
       "    }\n",
       "\n",
       "    .dataframe tbody tr th {\n",
       "        vertical-align: top;\n",
       "    }\n",
       "\n",
       "    .dataframe thead th {\n",
       "        text-align: right;\n",
       "    }\n",
       "</style>\n",
       "<table border=\"1\" class=\"dataframe\">\n",
       "  <thead>\n",
       "    <tr style=\"text-align: right;\">\n",
       "      <th></th>\n",
       "      <th>Gender</th>\n",
       "      <th>Blood Type</th>\n",
       "      <th>Diabetes</th>\n",
       "      <th>Smoking</th>\n",
       "    </tr>\n",
       "  </thead>\n",
       "  <tbody>\n",
       "    <tr>\n",
       "      <th>0</th>\n",
       "      <td>Male</td>\n",
       "      <td>O</td>\n",
       "      <td>Yes</td>\n",
       "      <td>No</td>\n",
       "    </tr>\n",
       "    <tr>\n",
       "      <th>1</th>\n",
       "      <td>Male</td>\n",
       "      <td>AB</td>\n",
       "      <td>No</td>\n",
       "      <td>No</td>\n",
       "    </tr>\n",
       "    <tr>\n",
       "      <th>3</th>\n",
       "      <td>Female</td>\n",
       "      <td>A</td>\n",
       "      <td>No</td>\n",
       "      <td>No</td>\n",
       "    </tr>\n",
       "    <tr>\n",
       "      <th>5</th>\n",
       "      <td>Male</td>\n",
       "      <td>AB</td>\n",
       "      <td>No</td>\n",
       "      <td>No</td>\n",
       "    </tr>\n",
       "    <tr>\n",
       "      <th>6</th>\n",
       "      <td>Male</td>\n",
       "      <td>AB</td>\n",
       "      <td>No</td>\n",
       "      <td>Yes</td>\n",
       "    </tr>\n",
       "  </tbody>\n",
       "</table>\n",
       "</div>"
      ],
      "text/plain": [
       "   Gender Blood Type Diabetes Smoking\n",
       "0    Male          O      Yes      No\n",
       "1    Male         AB       No      No\n",
       "3  Female          A       No      No\n",
       "5    Male         AB       No      No\n",
       "6    Male         AB       No     Yes"
      ]
     },
     "execution_count": 278,
     "metadata": {},
     "output_type": "execute_result"
    }
   ],
   "source": [
    "Y = df_ML[df_ML.columns.drop(df_ML.describe().columns)]\n",
    "Y.head()"
   ]
  },
  {
   "cell_type": "markdown",
   "id": "411e0c1a",
   "metadata": {
    "papermill": {
     "duration": 0.022828,
     "end_time": "2023-07-31T15:08:17.875987",
     "exception": false,
     "start_time": "2023-07-31T15:08:17.853159",
     "status": "completed"
    },
    "tags": []
   },
   "source": [
    "### Encode Blood Type (categorical features)"
   ]
  },
  {
   "cell_type": "code",
   "execution_count": 279,
   "id": "6a9232a0",
   "metadata": {
    "execution": {
     "iopub.execute_input": "2023-07-31T15:08:17.924140Z",
     "iopub.status.busy": "2023-07-31T15:08:17.923674Z",
     "iopub.status.idle": "2023-07-31T15:08:18.193468Z",
     "shell.execute_reply": "2023-07-31T15:08:18.192304Z"
    },
    "papermill": {
     "duration": 0.297523,
     "end_time": "2023-07-31T15:08:18.196457",
     "exception": false,
     "start_time": "2023-07-31T15:08:17.898934",
     "status": "completed"
    },
    "tags": []
   },
   "outputs": [],
   "source": [
    "from sklearn.compose import ColumnTransformer\n",
    "from sklearn.preprocessing import OneHotEncoder\n",
    "\n",
    "ctY = ColumnTransformer(transformers = [('encoder', OneHotEncoder(), [1])], remainder='passthrough')\n",
    "Y = ctY.fit_transform(Y)"
   ]
  },
  {
   "cell_type": "code",
   "execution_count": 280,
   "id": "cbfbccda",
   "metadata": {
    "execution": {
     "iopub.execute_input": "2023-07-31T15:08:18.246169Z",
     "iopub.status.busy": "2023-07-31T15:08:18.245706Z",
     "iopub.status.idle": "2023-07-31T15:08:18.264926Z",
     "shell.execute_reply": "2023-07-31T15:08:18.263532Z"
    },
    "papermill": {
     "duration": 0.046862,
     "end_time": "2023-07-31T15:08:18.267491",
     "exception": false,
     "start_time": "2023-07-31T15:08:18.220629",
     "status": "completed"
    },
    "tags": []
   },
   "outputs": [
    {
     "data": {
      "text/html": [
       "<div>\n",
       "<style scoped>\n",
       "    .dataframe tbody tr th:only-of-type {\n",
       "        vertical-align: middle;\n",
       "    }\n",
       "\n",
       "    .dataframe tbody tr th {\n",
       "        vertical-align: top;\n",
       "    }\n",
       "\n",
       "    .dataframe thead th {\n",
       "        text-align: right;\n",
       "    }\n",
       "</style>\n",
       "<table border=\"1\" class=\"dataframe\">\n",
       "  <thead>\n",
       "    <tr style=\"text-align: right;\">\n",
       "      <th></th>\n",
       "      <th>0</th>\n",
       "      <th>1</th>\n",
       "      <th>2</th>\n",
       "      <th>3</th>\n",
       "      <th>4</th>\n",
       "      <th>5</th>\n",
       "      <th>6</th>\n",
       "    </tr>\n",
       "  </thead>\n",
       "  <tbody>\n",
       "    <tr>\n",
       "      <th>0</th>\n",
       "      <td>0.0</td>\n",
       "      <td>0.0</td>\n",
       "      <td>0.0</td>\n",
       "      <td>1.0</td>\n",
       "      <td>Male</td>\n",
       "      <td>Yes</td>\n",
       "      <td>No</td>\n",
       "    </tr>\n",
       "    <tr>\n",
       "      <th>1</th>\n",
       "      <td>0.0</td>\n",
       "      <td>1.0</td>\n",
       "      <td>0.0</td>\n",
       "      <td>0.0</td>\n",
       "      <td>Male</td>\n",
       "      <td>No</td>\n",
       "      <td>No</td>\n",
       "    </tr>\n",
       "    <tr>\n",
       "      <th>2</th>\n",
       "      <td>1.0</td>\n",
       "      <td>0.0</td>\n",
       "      <td>0.0</td>\n",
       "      <td>0.0</td>\n",
       "      <td>Female</td>\n",
       "      <td>No</td>\n",
       "      <td>No</td>\n",
       "    </tr>\n",
       "    <tr>\n",
       "      <th>3</th>\n",
       "      <td>0.0</td>\n",
       "      <td>1.0</td>\n",
       "      <td>0.0</td>\n",
       "      <td>0.0</td>\n",
       "      <td>Male</td>\n",
       "      <td>No</td>\n",
       "      <td>No</td>\n",
       "    </tr>\n",
       "    <tr>\n",
       "      <th>4</th>\n",
       "      <td>0.0</td>\n",
       "      <td>1.0</td>\n",
       "      <td>0.0</td>\n",
       "      <td>0.0</td>\n",
       "      <td>Male</td>\n",
       "      <td>No</td>\n",
       "      <td>Yes</td>\n",
       "    </tr>\n",
       "    <tr>\n",
       "      <th>...</th>\n",
       "      <td>...</td>\n",
       "      <td>...</td>\n",
       "      <td>...</td>\n",
       "      <td>...</td>\n",
       "      <td>...</td>\n",
       "      <td>...</td>\n",
       "      <td>...</td>\n",
       "    </tr>\n",
       "    <tr>\n",
       "      <th>13003</th>\n",
       "      <td>1.0</td>\n",
       "      <td>0.0</td>\n",
       "      <td>0.0</td>\n",
       "      <td>0.0</td>\n",
       "      <td>Female</td>\n",
       "      <td>No</td>\n",
       "      <td>No</td>\n",
       "    </tr>\n",
       "    <tr>\n",
       "      <th>13004</th>\n",
       "      <td>0.0</td>\n",
       "      <td>0.0</td>\n",
       "      <td>1.0</td>\n",
       "      <td>0.0</td>\n",
       "      <td>Female</td>\n",
       "      <td>No</td>\n",
       "      <td>No</td>\n",
       "    </tr>\n",
       "    <tr>\n",
       "      <th>13005</th>\n",
       "      <td>0.0</td>\n",
       "      <td>0.0</td>\n",
       "      <td>1.0</td>\n",
       "      <td>0.0</td>\n",
       "      <td>Male</td>\n",
       "      <td>No</td>\n",
       "      <td>No</td>\n",
       "    </tr>\n",
       "    <tr>\n",
       "      <th>13006</th>\n",
       "      <td>0.0</td>\n",
       "      <td>0.0</td>\n",
       "      <td>1.0</td>\n",
       "      <td>0.0</td>\n",
       "      <td>Male</td>\n",
       "      <td>No</td>\n",
       "      <td>No</td>\n",
       "    </tr>\n",
       "    <tr>\n",
       "      <th>13007</th>\n",
       "      <td>1.0</td>\n",
       "      <td>0.0</td>\n",
       "      <td>0.0</td>\n",
       "      <td>0.0</td>\n",
       "      <td>Female</td>\n",
       "      <td>No</td>\n",
       "      <td>No</td>\n",
       "    </tr>\n",
       "  </tbody>\n",
       "</table>\n",
       "<p>13008 rows × 7 columns</p>\n",
       "</div>"
      ],
      "text/plain": [
       "         0    1    2    3       4    5    6\n",
       "0      0.0  0.0  0.0  1.0    Male  Yes   No\n",
       "1      0.0  1.0  0.0  0.0    Male   No   No\n",
       "2      1.0  0.0  0.0  0.0  Female   No   No\n",
       "3      0.0  1.0  0.0  0.0    Male   No   No\n",
       "4      0.0  1.0  0.0  0.0    Male   No  Yes\n",
       "...    ...  ...  ...  ...     ...  ...  ...\n",
       "13003  1.0  0.0  0.0  0.0  Female   No   No\n",
       "13004  0.0  0.0  1.0  0.0  Female   No   No\n",
       "13005  0.0  0.0  1.0  0.0    Male   No   No\n",
       "13006  0.0  0.0  1.0  0.0    Male   No   No\n",
       "13007  1.0  0.0  0.0  0.0  Female   No   No\n",
       "\n",
       "[13008 rows x 7 columns]"
      ]
     },
     "execution_count": 280,
     "metadata": {},
     "output_type": "execute_result"
    }
   ],
   "source": [
    "pd.DataFrame(Y)"
   ]
  },
  {
   "cell_type": "markdown",
   "id": "9c600f4a",
   "metadata": {
    "execution": {
     "iopub.execute_input": "2023-07-31T15:08:18.318153Z",
     "iopub.status.busy": "2023-07-31T15:08:18.317291Z",
     "iopub.status.idle": "2023-07-31T15:08:18.325890Z",
     "shell.execute_reply": "2023-07-31T15:08:18.324682Z"
    },
    "papermill": {
     "duration": 0.036565,
     "end_time": "2023-07-31T15:08:18.328261",
     "exception": false,
     "start_time": "2023-07-31T15:08:18.291696",
     "status": "completed"
    },
    "tags": []
   },
   "source": [
    "## Encode remaining binary features"
   ]
  },
  {
   "cell_type": "code",
   "execution_count": 281,
   "id": "34988078",
   "metadata": {
    "execution": {
     "iopub.execute_input": "2023-07-31T15:08:18.378742Z",
     "iopub.status.busy": "2023-07-31T15:08:18.378218Z",
     "iopub.status.idle": "2023-07-31T15:08:18.531860Z",
     "shell.execute_reply": "2023-07-31T15:08:18.530526Z"
    },
    "papermill": {
     "duration": 0.182869,
     "end_time": "2023-07-31T15:08:18.535314",
     "exception": false,
     "start_time": "2023-07-31T15:08:18.352445",
     "status": "completed"
    },
    "tags": []
   },
   "outputs": [],
   "source": [
    "from sklearn.preprocessing import LabelEncoder\n",
    "\n",
    "le = LabelEncoder()\n",
    "Y[:, 4] = le.fit_transform(Y[:, 4])\n",
    "Y[:, 5] = le.fit_transform(Y[:, 5])\n",
    "Y[:, 6] = le.fit_transform(Y[:, 6])"
   ]
  },
  {
   "cell_type": "code",
   "execution_count": 282,
   "id": "2344ba89",
   "metadata": {
    "execution": {
     "iopub.execute_input": "2023-07-31T15:08:18.585855Z",
     "iopub.status.busy": "2023-07-31T15:08:18.585060Z",
     "iopub.status.idle": "2023-07-31T15:08:18.602312Z",
     "shell.execute_reply": "2023-07-31T15:08:18.601070Z"
    },
    "papermill": {
     "duration": 0.045886,
     "end_time": "2023-07-31T15:08:18.605221",
     "exception": false,
     "start_time": "2023-07-31T15:08:18.559335",
     "status": "completed"
    },
    "tags": []
   },
   "outputs": [
    {
     "data": {
      "text/html": [
       "<div>\n",
       "<style scoped>\n",
       "    .dataframe tbody tr th:only-of-type {\n",
       "        vertical-align: middle;\n",
       "    }\n",
       "\n",
       "    .dataframe tbody tr th {\n",
       "        vertical-align: top;\n",
       "    }\n",
       "\n",
       "    .dataframe thead th {\n",
       "        text-align: right;\n",
       "    }\n",
       "</style>\n",
       "<table border=\"1\" class=\"dataframe\">\n",
       "  <thead>\n",
       "    <tr style=\"text-align: right;\">\n",
       "      <th></th>\n",
       "      <th>0</th>\n",
       "      <th>1</th>\n",
       "      <th>2</th>\n",
       "      <th>3</th>\n",
       "      <th>4</th>\n",
       "      <th>5</th>\n",
       "      <th>6</th>\n",
       "    </tr>\n",
       "  </thead>\n",
       "  <tbody>\n",
       "    <tr>\n",
       "      <th>0</th>\n",
       "      <td>0.0</td>\n",
       "      <td>0.0</td>\n",
       "      <td>0.0</td>\n",
       "      <td>1.0</td>\n",
       "      <td>1</td>\n",
       "      <td>1</td>\n",
       "      <td>0</td>\n",
       "    </tr>\n",
       "    <tr>\n",
       "      <th>1</th>\n",
       "      <td>0.0</td>\n",
       "      <td>1.0</td>\n",
       "      <td>0.0</td>\n",
       "      <td>0.0</td>\n",
       "      <td>1</td>\n",
       "      <td>0</td>\n",
       "      <td>0</td>\n",
       "    </tr>\n",
       "    <tr>\n",
       "      <th>2</th>\n",
       "      <td>1.0</td>\n",
       "      <td>0.0</td>\n",
       "      <td>0.0</td>\n",
       "      <td>0.0</td>\n",
       "      <td>0</td>\n",
       "      <td>0</td>\n",
       "      <td>0</td>\n",
       "    </tr>\n",
       "    <tr>\n",
       "      <th>3</th>\n",
       "      <td>0.0</td>\n",
       "      <td>1.0</td>\n",
       "      <td>0.0</td>\n",
       "      <td>0.0</td>\n",
       "      <td>1</td>\n",
       "      <td>0</td>\n",
       "      <td>0</td>\n",
       "    </tr>\n",
       "    <tr>\n",
       "      <th>4</th>\n",
       "      <td>0.0</td>\n",
       "      <td>1.0</td>\n",
       "      <td>0.0</td>\n",
       "      <td>0.0</td>\n",
       "      <td>1</td>\n",
       "      <td>0</td>\n",
       "      <td>1</td>\n",
       "    </tr>\n",
       "    <tr>\n",
       "      <th>...</th>\n",
       "      <td>...</td>\n",
       "      <td>...</td>\n",
       "      <td>...</td>\n",
       "      <td>...</td>\n",
       "      <td>...</td>\n",
       "      <td>...</td>\n",
       "      <td>...</td>\n",
       "    </tr>\n",
       "    <tr>\n",
       "      <th>13003</th>\n",
       "      <td>1.0</td>\n",
       "      <td>0.0</td>\n",
       "      <td>0.0</td>\n",
       "      <td>0.0</td>\n",
       "      <td>0</td>\n",
       "      <td>0</td>\n",
       "      <td>0</td>\n",
       "    </tr>\n",
       "    <tr>\n",
       "      <th>13004</th>\n",
       "      <td>0.0</td>\n",
       "      <td>0.0</td>\n",
       "      <td>1.0</td>\n",
       "      <td>0.0</td>\n",
       "      <td>0</td>\n",
       "      <td>0</td>\n",
       "      <td>0</td>\n",
       "    </tr>\n",
       "    <tr>\n",
       "      <th>13005</th>\n",
       "      <td>0.0</td>\n",
       "      <td>0.0</td>\n",
       "      <td>1.0</td>\n",
       "      <td>0.0</td>\n",
       "      <td>1</td>\n",
       "      <td>0</td>\n",
       "      <td>0</td>\n",
       "    </tr>\n",
       "    <tr>\n",
       "      <th>13006</th>\n",
       "      <td>0.0</td>\n",
       "      <td>0.0</td>\n",
       "      <td>1.0</td>\n",
       "      <td>0.0</td>\n",
       "      <td>1</td>\n",
       "      <td>0</td>\n",
       "      <td>0</td>\n",
       "    </tr>\n",
       "    <tr>\n",
       "      <th>13007</th>\n",
       "      <td>1.0</td>\n",
       "      <td>0.0</td>\n",
       "      <td>0.0</td>\n",
       "      <td>0.0</td>\n",
       "      <td>0</td>\n",
       "      <td>0</td>\n",
       "      <td>0</td>\n",
       "    </tr>\n",
       "  </tbody>\n",
       "</table>\n",
       "<p>13008 rows × 7 columns</p>\n",
       "</div>"
      ],
      "text/plain": [
       "         0    1    2    3  4  5  6\n",
       "0      0.0  0.0  0.0  1.0  1  1  0\n",
       "1      0.0  1.0  0.0  0.0  1  0  0\n",
       "2      1.0  0.0  0.0  0.0  0  0  0\n",
       "3      0.0  1.0  0.0  0.0  1  0  0\n",
       "4      0.0  1.0  0.0  0.0  1  0  1\n",
       "...    ...  ...  ...  ... .. .. ..\n",
       "13003  1.0  0.0  0.0  0.0  0  0  0\n",
       "13004  0.0  0.0  1.0  0.0  0  0  0\n",
       "13005  0.0  0.0  1.0  0.0  1  0  0\n",
       "13006  0.0  0.0  1.0  0.0  1  0  0\n",
       "13007  1.0  0.0  0.0  0.0  0  0  0\n",
       "\n",
       "[13008 rows x 7 columns]"
      ]
     },
     "execution_count": 282,
     "metadata": {},
     "output_type": "execute_result"
    }
   ],
   "source": [
    "Y = pd.DataFrame(Y)\n",
    "Y"
   ]
  },
  {
   "cell_type": "code",
   "execution_count": 283,
   "id": "00b28586",
   "metadata": {
    "execution": {
     "iopub.execute_input": "2023-07-31T15:08:18.656989Z",
     "iopub.status.busy": "2023-07-31T15:08:18.656503Z",
     "iopub.status.idle": "2023-07-31T15:08:18.662701Z",
     "shell.execute_reply": "2023-07-31T15:08:18.661598Z"
    },
    "papermill": {
     "duration": 0.034788,
     "end_time": "2023-07-31T15:08:18.665217",
     "exception": false,
     "start_time": "2023-07-31T15:08:18.630429",
     "status": "completed"
    },
    "tags": []
   },
   "outputs": [],
   "source": [
    "Y.columns = ['A', 'AB', 'B', 'O', 'Gender', 'Diabetes', 'Smoking']"
   ]
  },
  {
   "cell_type": "code",
   "execution_count": 284,
   "id": "ff7b480f",
   "metadata": {
    "execution": {
     "iopub.execute_input": "2023-07-31T15:08:18.717276Z",
     "iopub.status.busy": "2023-07-31T15:08:18.716831Z",
     "iopub.status.idle": "2023-07-31T15:08:18.732863Z",
     "shell.execute_reply": "2023-07-31T15:08:18.731797Z"
    },
    "papermill": {
     "duration": 0.045757,
     "end_time": "2023-07-31T15:08:18.735678",
     "exception": false,
     "start_time": "2023-07-31T15:08:18.689921",
     "status": "completed"
    },
    "tags": []
   },
   "outputs": [
    {
     "data": {
      "text/html": [
       "<div>\n",
       "<style scoped>\n",
       "    .dataframe tbody tr th:only-of-type {\n",
       "        vertical-align: middle;\n",
       "    }\n",
       "\n",
       "    .dataframe tbody tr th {\n",
       "        vertical-align: top;\n",
       "    }\n",
       "\n",
       "    .dataframe thead th {\n",
       "        text-align: right;\n",
       "    }\n",
       "</style>\n",
       "<table border=\"1\" class=\"dataframe\">\n",
       "  <thead>\n",
       "    <tr style=\"text-align: right;\">\n",
       "      <th></th>\n",
       "      <th>A</th>\n",
       "      <th>AB</th>\n",
       "      <th>B</th>\n",
       "      <th>O</th>\n",
       "      <th>Gender</th>\n",
       "      <th>Diabetes</th>\n",
       "      <th>Smoking</th>\n",
       "    </tr>\n",
       "  </thead>\n",
       "  <tbody>\n",
       "    <tr>\n",
       "      <th>0</th>\n",
       "      <td>0.0</td>\n",
       "      <td>0.0</td>\n",
       "      <td>0.0</td>\n",
       "      <td>1.0</td>\n",
       "      <td>1</td>\n",
       "      <td>1</td>\n",
       "      <td>0</td>\n",
       "    </tr>\n",
       "    <tr>\n",
       "      <th>1</th>\n",
       "      <td>0.0</td>\n",
       "      <td>1.0</td>\n",
       "      <td>0.0</td>\n",
       "      <td>0.0</td>\n",
       "      <td>1</td>\n",
       "      <td>0</td>\n",
       "      <td>0</td>\n",
       "    </tr>\n",
       "    <tr>\n",
       "      <th>2</th>\n",
       "      <td>1.0</td>\n",
       "      <td>0.0</td>\n",
       "      <td>0.0</td>\n",
       "      <td>0.0</td>\n",
       "      <td>0</td>\n",
       "      <td>0</td>\n",
       "      <td>0</td>\n",
       "    </tr>\n",
       "    <tr>\n",
       "      <th>3</th>\n",
       "      <td>0.0</td>\n",
       "      <td>1.0</td>\n",
       "      <td>0.0</td>\n",
       "      <td>0.0</td>\n",
       "      <td>1</td>\n",
       "      <td>0</td>\n",
       "      <td>0</td>\n",
       "    </tr>\n",
       "    <tr>\n",
       "      <th>4</th>\n",
       "      <td>0.0</td>\n",
       "      <td>1.0</td>\n",
       "      <td>0.0</td>\n",
       "      <td>0.0</td>\n",
       "      <td>1</td>\n",
       "      <td>0</td>\n",
       "      <td>1</td>\n",
       "    </tr>\n",
       "    <tr>\n",
       "      <th>...</th>\n",
       "      <td>...</td>\n",
       "      <td>...</td>\n",
       "      <td>...</td>\n",
       "      <td>...</td>\n",
       "      <td>...</td>\n",
       "      <td>...</td>\n",
       "      <td>...</td>\n",
       "    </tr>\n",
       "    <tr>\n",
       "      <th>13003</th>\n",
       "      <td>1.0</td>\n",
       "      <td>0.0</td>\n",
       "      <td>0.0</td>\n",
       "      <td>0.0</td>\n",
       "      <td>0</td>\n",
       "      <td>0</td>\n",
       "      <td>0</td>\n",
       "    </tr>\n",
       "    <tr>\n",
       "      <th>13004</th>\n",
       "      <td>0.0</td>\n",
       "      <td>0.0</td>\n",
       "      <td>1.0</td>\n",
       "      <td>0.0</td>\n",
       "      <td>0</td>\n",
       "      <td>0</td>\n",
       "      <td>0</td>\n",
       "    </tr>\n",
       "    <tr>\n",
       "      <th>13005</th>\n",
       "      <td>0.0</td>\n",
       "      <td>0.0</td>\n",
       "      <td>1.0</td>\n",
       "      <td>0.0</td>\n",
       "      <td>1</td>\n",
       "      <td>0</td>\n",
       "      <td>0</td>\n",
       "    </tr>\n",
       "    <tr>\n",
       "      <th>13006</th>\n",
       "      <td>0.0</td>\n",
       "      <td>0.0</td>\n",
       "      <td>1.0</td>\n",
       "      <td>0.0</td>\n",
       "      <td>1</td>\n",
       "      <td>0</td>\n",
       "      <td>0</td>\n",
       "    </tr>\n",
       "    <tr>\n",
       "      <th>13007</th>\n",
       "      <td>1.0</td>\n",
       "      <td>0.0</td>\n",
       "      <td>0.0</td>\n",
       "      <td>0.0</td>\n",
       "      <td>0</td>\n",
       "      <td>0</td>\n",
       "      <td>0</td>\n",
       "    </tr>\n",
       "  </tbody>\n",
       "</table>\n",
       "<p>13008 rows × 7 columns</p>\n",
       "</div>"
      ],
      "text/plain": [
       "         A   AB    B    O Gender Diabetes Smoking\n",
       "0      0.0  0.0  0.0  1.0      1        1       0\n",
       "1      0.0  1.0  0.0  0.0      1        0       0\n",
       "2      1.0  0.0  0.0  0.0      0        0       0\n",
       "3      0.0  1.0  0.0  0.0      1        0       0\n",
       "4      0.0  1.0  0.0  0.0      1        0       1\n",
       "...    ...  ...  ...  ...    ...      ...     ...\n",
       "13003  1.0  0.0  0.0  0.0      0        0       0\n",
       "13004  0.0  0.0  1.0  0.0      0        0       0\n",
       "13005  0.0  0.0  1.0  0.0      1        0       0\n",
       "13006  0.0  0.0  1.0  0.0      1        0       0\n",
       "13007  1.0  0.0  0.0  0.0      0        0       0\n",
       "\n",
       "[13008 rows x 7 columns]"
      ]
     },
     "execution_count": 284,
     "metadata": {},
     "output_type": "execute_result"
    }
   ],
   "source": [
    "Y"
   ]
  },
  {
   "cell_type": "code",
   "execution_count": null,
   "id": "0d9e9c57",
   "metadata": {},
   "outputs": [],
   "source": []
  },
  {
   "cell_type": "code",
   "execution_count": 285,
   "id": "412e8afe",
   "metadata": {
    "execution": {
     "iopub.execute_input": "2023-07-31T15:08:18.838146Z",
     "iopub.status.busy": "2023-07-31T15:08:18.837713Z",
     "iopub.status.idle": "2023-07-31T15:08:18.982623Z",
     "shell.execute_reply": "2023-07-31T15:08:18.981270Z"
    },
    "papermill": {
     "duration": 0.174996,
     "end_time": "2023-07-31T15:08:18.985839",
     "exception": false,
     "start_time": "2023-07-31T15:08:18.810843",
     "status": "completed"
    },
    "tags": []
   },
   "outputs": [],
   "source": [
    "from sklearn.model_selection import train_test_split\n",
    "\n",
    "x_train, x_test, y_train, y_test = train_test_split(X, Y, test_size=0.2, random_state=0)"
   ]
  },
  {
   "cell_type": "code",
   "execution_count": 286,
   "id": "5228b1f6",
   "metadata": {
    "execution": {
     "iopub.execute_input": "2023-07-31T15:08:19.042985Z",
     "iopub.status.busy": "2023-07-31T15:08:19.042534Z",
     "iopub.status.idle": "2023-07-31T15:08:19.050523Z",
     "shell.execute_reply": "2023-07-31T15:08:19.049372Z"
    },
    "papermill": {
     "duration": 0.039255,
     "end_time": "2023-07-31T15:08:19.053216",
     "exception": false,
     "start_time": "2023-07-31T15:08:19.013961",
     "status": "completed"
    },
    "tags": []
   },
   "outputs": [
    {
     "data": {
      "text/plain": [
       "((10406, 7), (10406, 7), (2602, 7), (2602, 7))"
      ]
     },
     "execution_count": 286,
     "metadata": {},
     "output_type": "execute_result"
    }
   ],
   "source": [
    "x_train.shape, y_train.shape, x_test.shape, y_test.shape"
   ]
  },
  {
   "cell_type": "markdown",
   "id": "88aa76ea",
   "metadata": {
    "papermill": {
     "duration": 0.025491,
     "end_time": "2023-07-31T15:08:19.104364",
     "exception": false,
     "start_time": "2023-07-31T15:08:19.078873",
     "status": "completed"
    },
    "tags": []
   },
   "source": [
    "* Train machine learning model"
   ]
  },
  {
   "cell_type": "code",
   "execution_count": 287,
   "id": "f6c12d26",
   "metadata": {
    "execution": {
     "iopub.execute_input": "2023-07-31T15:08:19.159282Z",
     "iopub.status.busy": "2023-07-31T15:08:19.158758Z",
     "iopub.status.idle": "2023-07-31T15:08:19.420064Z",
     "shell.execute_reply": "2023-07-31T15:08:19.418836Z"
    },
    "papermill": {
     "duration": 0.292376,
     "end_time": "2023-07-31T15:08:19.423034",
     "exception": false,
     "start_time": "2023-07-31T15:08:19.130658",
     "status": "completed"
    },
    "tags": []
   },
   "outputs": [],
   "source": [
    "from sklearn.tree import DecisionTreeRegressor\n",
    "\n",
    "df_train = DecisionTreeRegressor(random_state=1)"
   ]
  },
  {
   "cell_type": "code",
   "execution_count": 288,
   "id": "399df347",
   "metadata": {
    "execution": {
     "iopub.execute_input": "2023-07-31T15:08:19.479260Z",
     "iopub.status.busy": "2023-07-31T15:08:19.478813Z",
     "iopub.status.idle": "2023-07-31T15:08:21.543306Z",
     "shell.execute_reply": "2023-07-31T15:08:21.542428Z"
    },
    "papermill": {
     "duration": 2.096041,
     "end_time": "2023-07-31T15:08:21.545806",
     "exception": false,
     "start_time": "2023-07-31T15:08:19.449765",
     "status": "completed"
    },
    "tags": []
   },
   "outputs": [
    {
     "data": {
      "text/plain": [
       "DecisionTreeRegressor(random_state=1)"
      ]
     },
     "execution_count": 288,
     "metadata": {},
     "output_type": "execute_result"
    }
   ],
   "source": [
    "df_train.fit(x_train, y_train)"
   ]
  },
  {
   "cell_type": "code",
   "execution_count": 289,
   "id": "021eb7c9",
   "metadata": {
    "execution": {
     "iopub.execute_input": "2023-07-31T15:08:21.975544Z",
     "iopub.status.busy": "2023-07-31T15:08:21.974419Z",
     "iopub.status.idle": "2023-07-31T15:08:22.250983Z",
     "shell.execute_reply": "2023-07-31T15:08:22.249675Z"
    },
    "papermill": {
     "duration": 0.31044,
     "end_time": "2023-07-31T15:08:22.255489",
     "exception": false,
     "start_time": "2023-07-31T15:08:21.945049",
     "status": "completed"
    },
    "tags": []
   },
   "outputs": [],
   "source": [
    "NaN_data = data[data.isna().any(axis=1)]"
   ]
  },
  {
   "cell_type": "code",
   "execution_count": 290,
   "id": "1113dacd",
   "metadata": {},
   "outputs": [
    {
     "data": {
      "text/html": [
       "<div>\n",
       "<style scoped>\n",
       "    .dataframe tbody tr th:only-of-type {\n",
       "        vertical-align: middle;\n",
       "    }\n",
       "\n",
       "    .dataframe tbody tr th {\n",
       "        vertical-align: top;\n",
       "    }\n",
       "\n",
       "    .dataframe thead th {\n",
       "        text-align: right;\n",
       "    }\n",
       "</style>\n",
       "<table border=\"1\" class=\"dataframe\">\n",
       "  <thead>\n",
       "    <tr style=\"text-align: right;\">\n",
       "      <th></th>\n",
       "      <th>Age</th>\n",
       "      <th>Gender</th>\n",
       "      <th>Height</th>\n",
       "      <th>Weight</th>\n",
       "      <th>Blood Type</th>\n",
       "      <th>BMI</th>\n",
       "      <th>Temperature</th>\n",
       "      <th>Heart Rate</th>\n",
       "      <th>Blood Pressure</th>\n",
       "      <th>Cholesterol</th>\n",
       "      <th>Diabetes</th>\n",
       "      <th>Smoking</th>\n",
       "    </tr>\n",
       "  </thead>\n",
       "  <tbody>\n",
       "    <tr>\n",
       "      <th>2</th>\n",
       "      <td>18.0</td>\n",
       "      <td>NaN</td>\n",
       "      <td>181.297913</td>\n",
       "      <td>83.552679</td>\n",
       "      <td>B</td>\n",
       "      <td>25.419955</td>\n",
       "      <td>98.073156</td>\n",
       "      <td>96.0</td>\n",
       "      <td>130.0</td>\n",
       "      <td>209.0</td>\n",
       "      <td>No</td>\n",
       "      <td>No</td>\n",
       "    </tr>\n",
       "    <tr>\n",
       "      <th>4</th>\n",
       "      <td>30.0</td>\n",
       "      <td>Male</td>\n",
       "      <td>176.240978</td>\n",
       "      <td>86.892154</td>\n",
       "      <td>AB</td>\n",
       "      <td>27.974786</td>\n",
       "      <td>98.587099</td>\n",
       "      <td>85.0</td>\n",
       "      <td>105.0</td>\n",
       "      <td>239.0</td>\n",
       "      <td>NaN</td>\n",
       "      <td>No</td>\n",
       "    </tr>\n",
       "    <tr>\n",
       "      <th>8</th>\n",
       "      <td>25.0</td>\n",
       "      <td>NaN</td>\n",
       "      <td>182.393355</td>\n",
       "      <td>40.749151</td>\n",
       "      <td>O</td>\n",
       "      <td>12.248997</td>\n",
       "      <td>98.897528</td>\n",
       "      <td>89.0</td>\n",
       "      <td>121.0</td>\n",
       "      <td>212.0</td>\n",
       "      <td>No</td>\n",
       "      <td>No</td>\n",
       "    </tr>\n",
       "    <tr>\n",
       "      <th>9</th>\n",
       "      <td>22.0</td>\n",
       "      <td>Male</td>\n",
       "      <td>174.612249</td>\n",
       "      <td>49.604230</td>\n",
       "      <td>O</td>\n",
       "      <td>16.269316</td>\n",
       "      <td>98.945057</td>\n",
       "      <td>65.0</td>\n",
       "      <td>119.0</td>\n",
       "      <td>177.0</td>\n",
       "      <td>NaN</td>\n",
       "      <td>No</td>\n",
       "    </tr>\n",
       "    <tr>\n",
       "      <th>10</th>\n",
       "      <td>26.0</td>\n",
       "      <td>NaN</td>\n",
       "      <td>153.776101</td>\n",
       "      <td>69.985652</td>\n",
       "      <td>B</td>\n",
       "      <td>29.595884</td>\n",
       "      <td>98.043213</td>\n",
       "      <td>71.0</td>\n",
       "      <td>118.0</td>\n",
       "      <td>144.0</td>\n",
       "      <td>No</td>\n",
       "      <td>No</td>\n",
       "    </tr>\n",
       "    <tr>\n",
       "      <th>...</th>\n",
       "      <td>...</td>\n",
       "      <td>...</td>\n",
       "      <td>...</td>\n",
       "      <td>...</td>\n",
       "      <td>...</td>\n",
       "      <td>...</td>\n",
       "      <td>...</td>\n",
       "      <td>...</td>\n",
       "      <td>...</td>\n",
       "      <td>...</td>\n",
       "      <td>...</td>\n",
       "      <td>...</td>\n",
       "    </tr>\n",
       "    <tr>\n",
       "      <th>19987</th>\n",
       "      <td>34.0</td>\n",
       "      <td>Male</td>\n",
       "      <td>175.340465</td>\n",
       "      <td>80.167100</td>\n",
       "      <td>NaN</td>\n",
       "      <td>26.075453</td>\n",
       "      <td>98.993653</td>\n",
       "      <td>63.0</td>\n",
       "      <td>97.0</td>\n",
       "      <td>132.0</td>\n",
       "      <td>No</td>\n",
       "      <td>NaN</td>\n",
       "    </tr>\n",
       "    <tr>\n",
       "      <th>19992</th>\n",
       "      <td>34.0</td>\n",
       "      <td>Female</td>\n",
       "      <td>182.693051</td>\n",
       "      <td>57.611511</td>\n",
       "      <td>NaN</td>\n",
       "      <td>17.260971</td>\n",
       "      <td>98.599135</td>\n",
       "      <td>60.0</td>\n",
       "      <td>100.0</td>\n",
       "      <td>146.0</td>\n",
       "      <td>No</td>\n",
       "      <td>No</td>\n",
       "    </tr>\n",
       "    <tr>\n",
       "      <th>19996</th>\n",
       "      <td>20.0</td>\n",
       "      <td>Male</td>\n",
       "      <td>175.173662</td>\n",
       "      <td>92.326307</td>\n",
       "      <td>NaN</td>\n",
       "      <td>30.087621</td>\n",
       "      <td>98.596762</td>\n",
       "      <td>61.0</td>\n",
       "      <td>118.0</td>\n",
       "      <td>199.0</td>\n",
       "      <td>NaN</td>\n",
       "      <td>No</td>\n",
       "    </tr>\n",
       "    <tr>\n",
       "      <th>19997</th>\n",
       "      <td>32.0</td>\n",
       "      <td>Male</td>\n",
       "      <td>156.759568</td>\n",
       "      <td>77.394171</td>\n",
       "      <td>NaN</td>\n",
       "      <td>31.494893</td>\n",
       "      <td>98.187217</td>\n",
       "      <td>90.0</td>\n",
       "      <td>113.0</td>\n",
       "      <td>196.0</td>\n",
       "      <td>No</td>\n",
       "      <td>No</td>\n",
       "    </tr>\n",
       "    <tr>\n",
       "      <th>19998</th>\n",
       "      <td>28.0</td>\n",
       "      <td>Male</td>\n",
       "      <td>171.238610</td>\n",
       "      <td>69.985652</td>\n",
       "      <td>A</td>\n",
       "      <td>23.867428</td>\n",
       "      <td>97.819057</td>\n",
       "      <td>94.0</td>\n",
       "      <td>115.0</td>\n",
       "      <td>150.0</td>\n",
       "      <td>NaN</td>\n",
       "      <td>No</td>\n",
       "    </tr>\n",
       "  </tbody>\n",
       "</table>\n",
       "<p>6909 rows × 12 columns</p>\n",
       "</div>"
      ],
      "text/plain": [
       "        Age  Gender      Height     Weight Blood Type        BMI  Temperature  \\\n",
       "2      18.0     NaN  181.297913  83.552679          B  25.419955    98.073156   \n",
       "4      30.0    Male  176.240978  86.892154         AB  27.974786    98.587099   \n",
       "8      25.0     NaN  182.393355  40.749151          O  12.248997    98.897528   \n",
       "9      22.0    Male  174.612249  49.604230          O  16.269316    98.945057   \n",
       "10     26.0     NaN  153.776101  69.985652          B  29.595884    98.043213   \n",
       "...     ...     ...         ...        ...        ...        ...          ...   \n",
       "19987  34.0    Male  175.340465  80.167100        NaN  26.075453    98.993653   \n",
       "19992  34.0  Female  182.693051  57.611511        NaN  17.260971    98.599135   \n",
       "19996  20.0    Male  175.173662  92.326307        NaN  30.087621    98.596762   \n",
       "19997  32.0    Male  156.759568  77.394171        NaN  31.494893    98.187217   \n",
       "19998  28.0    Male  171.238610  69.985652          A  23.867428    97.819057   \n",
       "\n",
       "       Heart Rate  Blood Pressure  Cholesterol Diabetes Smoking  \n",
       "2            96.0           130.0        209.0       No      No  \n",
       "4            85.0           105.0        239.0      NaN      No  \n",
       "8            89.0           121.0        212.0       No      No  \n",
       "9            65.0           119.0        177.0      NaN      No  \n",
       "10           71.0           118.0        144.0       No      No  \n",
       "...           ...             ...          ...      ...     ...  \n",
       "19987        63.0            97.0        132.0       No     NaN  \n",
       "19992        60.0           100.0        146.0       No      No  \n",
       "19996        61.0           118.0        199.0      NaN      No  \n",
       "19997        90.0           113.0        196.0       No      No  \n",
       "19998        94.0           115.0        150.0      NaN      No  \n",
       "\n",
       "[6909 rows x 12 columns]"
      ]
     },
     "execution_count": 290,
     "metadata": {},
     "output_type": "execute_result"
    }
   ],
   "source": [
    "NaN_data"
   ]
  },
  {
   "cell_type": "code",
   "execution_count": 291,
   "id": "3bcefad0",
   "metadata": {
    "execution": {
     "iopub.execute_input": "2023-07-31T15:08:22.317672Z",
     "iopub.status.busy": "2023-07-31T15:08:22.316567Z",
     "iopub.status.idle": "2023-07-31T15:08:22.416910Z",
     "shell.execute_reply": "2023-07-31T15:08:22.415536Z"
    },
    "papermill": {
     "duration": 0.133109,
     "end_time": "2023-07-31T15:08:22.420026",
     "exception": false,
     "start_time": "2023-07-31T15:08:22.286917",
     "status": "completed"
    },
    "tags": []
   },
   "outputs": [
    {
     "data": {
      "text/plain": [
       "Age                  0\n",
       "Gender            1958\n",
       "Height               0\n",
       "Weight               0\n",
       "Blood Type        1955\n",
       "BMI                  0\n",
       "Temperature          0\n",
       "Heart Rate           0\n",
       "Blood Pressure       0\n",
       "Cholesterol          0\n",
       "Diabetes          2066\n",
       "Smoking           2043\n",
       "dtype: int64"
      ]
     },
     "execution_count": 291,
     "metadata": {},
     "output_type": "execute_result"
    }
   ],
   "source": [
    "NaN_data.isna().sum()"
   ]
  },
  {
   "cell_type": "code",
   "execution_count": 294,
   "id": "615dc39c",
   "metadata": {
    "execution": {
     "iopub.execute_input": "2023-07-31T15:08:22.478183Z",
     "iopub.status.busy": "2023-07-31T15:08:22.477234Z",
     "iopub.status.idle": "2023-07-31T15:08:22.548327Z",
     "shell.execute_reply": "2023-07-31T15:08:22.546980Z"
    },
    "papermill": {
     "duration": 0.102971,
     "end_time": "2023-07-31T15:08:22.551277",
     "exception": false,
     "start_time": "2023-07-31T15:08:22.448306",
     "status": "completed"
    },
    "tags": []
   },
   "outputs": [
    {
     "data": {
      "text/html": [
       "<div>\n",
       "<style scoped>\n",
       "    .dataframe tbody tr th:only-of-type {\n",
       "        vertical-align: middle;\n",
       "    }\n",
       "\n",
       "    .dataframe tbody tr th {\n",
       "        vertical-align: top;\n",
       "    }\n",
       "\n",
       "    .dataframe thead th {\n",
       "        text-align: right;\n",
       "    }\n",
       "</style>\n",
       "<table border=\"1\" class=\"dataframe\">\n",
       "  <thead>\n",
       "    <tr style=\"text-align: right;\">\n",
       "      <th></th>\n",
       "      <th>Age</th>\n",
       "      <th>Height</th>\n",
       "      <th>Weight</th>\n",
       "      <th>Temperature</th>\n",
       "      <th>Heart Rate</th>\n",
       "      <th>Blood Pressure</th>\n",
       "      <th>Cholesterol</th>\n",
       "    </tr>\n",
       "  </thead>\n",
       "  <tbody>\n",
       "    <tr>\n",
       "      <th>2</th>\n",
       "      <td>18.0</td>\n",
       "      <td>181.297913</td>\n",
       "      <td>83.552679</td>\n",
       "      <td>98.073156</td>\n",
       "      <td>96.0</td>\n",
       "      <td>130.0</td>\n",
       "      <td>209.0</td>\n",
       "    </tr>\n",
       "    <tr>\n",
       "      <th>4</th>\n",
       "      <td>30.0</td>\n",
       "      <td>176.240978</td>\n",
       "      <td>86.892154</td>\n",
       "      <td>98.587099</td>\n",
       "      <td>85.0</td>\n",
       "      <td>105.0</td>\n",
       "      <td>239.0</td>\n",
       "    </tr>\n",
       "    <tr>\n",
       "      <th>8</th>\n",
       "      <td>25.0</td>\n",
       "      <td>182.393355</td>\n",
       "      <td>40.749151</td>\n",
       "      <td>98.897528</td>\n",
       "      <td>89.0</td>\n",
       "      <td>121.0</td>\n",
       "      <td>212.0</td>\n",
       "    </tr>\n",
       "    <tr>\n",
       "      <th>9</th>\n",
       "      <td>22.0</td>\n",
       "      <td>174.612249</td>\n",
       "      <td>49.604230</td>\n",
       "      <td>98.945057</td>\n",
       "      <td>65.0</td>\n",
       "      <td>119.0</td>\n",
       "      <td>177.0</td>\n",
       "    </tr>\n",
       "    <tr>\n",
       "      <th>10</th>\n",
       "      <td>26.0</td>\n",
       "      <td>153.776101</td>\n",
       "      <td>69.985652</td>\n",
       "      <td>98.043213</td>\n",
       "      <td>71.0</td>\n",
       "      <td>118.0</td>\n",
       "      <td>144.0</td>\n",
       "    </tr>\n",
       "  </tbody>\n",
       "</table>\n",
       "</div>"
      ],
      "text/plain": [
       "     Age      Height     Weight  Temperature  Heart Rate  Blood Pressure  \\\n",
       "2   18.0  181.297913  83.552679    98.073156        96.0           130.0   \n",
       "4   30.0  176.240978  86.892154    98.587099        85.0           105.0   \n",
       "8   25.0  182.393355  40.749151    98.897528        89.0           121.0   \n",
       "9   22.0  174.612249  49.604230    98.945057        65.0           119.0   \n",
       "10  26.0  153.776101  69.985652    98.043213        71.0           118.0   \n",
       "\n",
       "    Cholesterol  \n",
       "2         209.0  \n",
       "4         239.0  \n",
       "8         212.0  \n",
       "9         177.0  \n",
       "10        144.0  "
      ]
     },
     "execution_count": 294,
     "metadata": {},
     "output_type": "execute_result"
    }
   ],
   "source": [
    "numerical_NaN = NaN_data[NaN_data.describe().columns.drop('BMI')]\n",
    "numerical_NaN.head()"
   ]
  },
  {
   "cell_type": "code",
   "execution_count": 293,
   "id": "df3013fe",
   "metadata": {
    "execution": {
     "iopub.execute_input": "2023-07-31T15:08:22.613584Z",
     "iopub.status.busy": "2023-07-31T15:08:22.613140Z",
     "iopub.status.idle": "2023-07-31T15:08:22.677167Z",
     "shell.execute_reply": "2023-07-31T15:08:22.676263Z"
    },
    "papermill": {
     "duration": 0.100802,
     "end_time": "2023-07-31T15:08:22.679689",
     "exception": false,
     "start_time": "2023-07-31T15:08:22.578887",
     "status": "completed"
    },
    "tags": []
   },
   "outputs": [
    {
     "data": {
      "text/html": [
       "<div>\n",
       "<style scoped>\n",
       "    .dataframe tbody tr th:only-of-type {\n",
       "        vertical-align: middle;\n",
       "    }\n",
       "\n",
       "    .dataframe tbody tr th {\n",
       "        vertical-align: top;\n",
       "    }\n",
       "\n",
       "    .dataframe thead th {\n",
       "        text-align: right;\n",
       "    }\n",
       "</style>\n",
       "<table border=\"1\" class=\"dataframe\">\n",
       "  <thead>\n",
       "    <tr style=\"text-align: right;\">\n",
       "      <th></th>\n",
       "      <th>Gender</th>\n",
       "      <th>Blood Type</th>\n",
       "      <th>Diabetes</th>\n",
       "      <th>Smoking</th>\n",
       "    </tr>\n",
       "  </thead>\n",
       "  <tbody>\n",
       "    <tr>\n",
       "      <th>2</th>\n",
       "      <td>NaN</td>\n",
       "      <td>B</td>\n",
       "      <td>No</td>\n",
       "      <td>No</td>\n",
       "    </tr>\n",
       "    <tr>\n",
       "      <th>4</th>\n",
       "      <td>Male</td>\n",
       "      <td>AB</td>\n",
       "      <td>NaN</td>\n",
       "      <td>No</td>\n",
       "    </tr>\n",
       "    <tr>\n",
       "      <th>8</th>\n",
       "      <td>NaN</td>\n",
       "      <td>O</td>\n",
       "      <td>No</td>\n",
       "      <td>No</td>\n",
       "    </tr>\n",
       "    <tr>\n",
       "      <th>9</th>\n",
       "      <td>Male</td>\n",
       "      <td>O</td>\n",
       "      <td>NaN</td>\n",
       "      <td>No</td>\n",
       "    </tr>\n",
       "    <tr>\n",
       "      <th>10</th>\n",
       "      <td>NaN</td>\n",
       "      <td>B</td>\n",
       "      <td>No</td>\n",
       "      <td>No</td>\n",
       "    </tr>\n",
       "  </tbody>\n",
       "</table>\n",
       "</div>"
      ],
      "text/plain": [
       "   Gender Blood Type Diabetes Smoking\n",
       "2     NaN          B       No      No\n",
       "4    Male         AB      NaN      No\n",
       "8     NaN          O       No      No\n",
       "9    Male          O      NaN      No\n",
       "10    NaN          B       No      No"
      ]
     },
     "execution_count": 293,
     "metadata": {},
     "output_type": "execute_result"
    }
   ],
   "source": [
    "categorical_NaN = NaN_data[NaN_data.columns.drop(NaN_data.describe().columns)]\n",
    "categorical_NaN.head()"
   ]
  },
  {
   "cell_type": "code",
   "execution_count": 295,
   "id": "2207ba6c",
   "metadata": {
    "execution": {
     "iopub.execute_input": "2023-07-31T15:08:22.740021Z",
     "iopub.status.busy": "2023-07-31T15:08:22.739196Z",
     "iopub.status.idle": "2023-07-31T15:08:22.785138Z",
     "shell.execute_reply": "2023-07-31T15:08:22.783818Z"
    },
    "papermill": {
     "duration": 0.079142,
     "end_time": "2023-07-31T15:08:22.788316",
     "exception": false,
     "start_time": "2023-07-31T15:08:22.709174",
     "status": "completed"
    },
    "tags": []
   },
   "outputs": [],
   "source": [
    "categorical_preds = df_train.predict(numerical_NaN)"
   ]
  },
  {
   "cell_type": "code",
   "execution_count": 296,
   "id": "7eb8f0e0",
   "metadata": {
    "execution": {
     "iopub.execute_input": "2023-07-31T15:08:22.846947Z",
     "iopub.status.busy": "2023-07-31T15:08:22.846447Z",
     "iopub.status.idle": "2023-07-31T15:08:22.852024Z",
     "shell.execute_reply": "2023-07-31T15:08:22.850837Z"
    },
    "papermill": {
     "duration": 0.038016,
     "end_time": "2023-07-31T15:08:22.854621",
     "exception": false,
     "start_time": "2023-07-31T15:08:22.816605",
     "status": "completed"
    },
    "tags": []
   },
   "outputs": [],
   "source": [
    "categorical_preds = pd.DataFrame(categorical_preds)\n",
    "categorical_preds.columns = y_preds.columns"
   ]
  },
  {
   "cell_type": "code",
   "execution_count": 297,
   "id": "450348fa",
   "metadata": {
    "execution": {
     "iopub.execute_input": "2023-07-31T15:08:22.912892Z",
     "iopub.status.busy": "2023-07-31T15:08:22.912400Z",
     "iopub.status.idle": "2023-07-31T15:08:22.931474Z",
     "shell.execute_reply": "2023-07-31T15:08:22.930253Z"
    },
    "papermill": {
     "duration": 0.051291,
     "end_time": "2023-07-31T15:08:22.933847",
     "exception": false,
     "start_time": "2023-07-31T15:08:22.882556",
     "status": "completed"
    },
    "tags": []
   },
   "outputs": [
    {
     "data": {
      "text/html": [
       "<div>\n",
       "<style scoped>\n",
       "    .dataframe tbody tr th:only-of-type {\n",
       "        vertical-align: middle;\n",
       "    }\n",
       "\n",
       "    .dataframe tbody tr th {\n",
       "        vertical-align: top;\n",
       "    }\n",
       "\n",
       "    .dataframe thead th {\n",
       "        text-align: right;\n",
       "    }\n",
       "</style>\n",
       "<table border=\"1\" class=\"dataframe\">\n",
       "  <thead>\n",
       "    <tr style=\"text-align: right;\">\n",
       "      <th></th>\n",
       "      <th>A</th>\n",
       "      <th>AB</th>\n",
       "      <th>B</th>\n",
       "      <th>O</th>\n",
       "      <th>Gender</th>\n",
       "      <th>Diabetes</th>\n",
       "      <th>Smoking</th>\n",
       "    </tr>\n",
       "  </thead>\n",
       "  <tbody>\n",
       "    <tr>\n",
       "      <th>0</th>\n",
       "      <td>1.0</td>\n",
       "      <td>0.0</td>\n",
       "      <td>0.0</td>\n",
       "      <td>0.0</td>\n",
       "      <td>0.0</td>\n",
       "      <td>0.0</td>\n",
       "      <td>0.0</td>\n",
       "    </tr>\n",
       "    <tr>\n",
       "      <th>1</th>\n",
       "      <td>0.0</td>\n",
       "      <td>1.0</td>\n",
       "      <td>0.0</td>\n",
       "      <td>0.0</td>\n",
       "      <td>1.0</td>\n",
       "      <td>0.0</td>\n",
       "      <td>0.0</td>\n",
       "    </tr>\n",
       "    <tr>\n",
       "      <th>2</th>\n",
       "      <td>0.0</td>\n",
       "      <td>0.0</td>\n",
       "      <td>0.0</td>\n",
       "      <td>1.0</td>\n",
       "      <td>1.0</td>\n",
       "      <td>0.0</td>\n",
       "      <td>0.0</td>\n",
       "    </tr>\n",
       "    <tr>\n",
       "      <th>3</th>\n",
       "      <td>1.0</td>\n",
       "      <td>0.0</td>\n",
       "      <td>0.0</td>\n",
       "      <td>0.0</td>\n",
       "      <td>1.0</td>\n",
       "      <td>0.0</td>\n",
       "      <td>0.0</td>\n",
       "    </tr>\n",
       "    <tr>\n",
       "      <th>4</th>\n",
       "      <td>0.0</td>\n",
       "      <td>0.0</td>\n",
       "      <td>0.0</td>\n",
       "      <td>1.0</td>\n",
       "      <td>0.0</td>\n",
       "      <td>1.0</td>\n",
       "      <td>0.0</td>\n",
       "    </tr>\n",
       "  </tbody>\n",
       "</table>\n",
       "</div>"
      ],
      "text/plain": [
       "     A   AB    B    O  Gender  Diabetes  Smoking\n",
       "0  1.0  0.0  0.0  0.0     0.0       0.0      0.0\n",
       "1  0.0  1.0  0.0  0.0     1.0       0.0      0.0\n",
       "2  0.0  0.0  0.0  1.0     1.0       0.0      0.0\n",
       "3  1.0  0.0  0.0  0.0     1.0       0.0      0.0\n",
       "4  0.0  0.0  0.0  1.0     0.0       1.0      0.0"
      ]
     },
     "execution_count": 297,
     "metadata": {},
     "output_type": "execute_result"
    }
   ],
   "source": [
    "categorical_preds.head()"
   ]
  },
  {
   "cell_type": "code",
   "execution_count": 298,
   "id": "fcb64802",
   "metadata": {
    "execution": {
     "iopub.execute_input": "2023-07-31T15:08:22.993288Z",
     "iopub.status.busy": "2023-07-31T15:08:22.992379Z",
     "iopub.status.idle": "2023-07-31T15:08:23.043112Z",
     "shell.execute_reply": "2023-07-31T15:08:23.042066Z"
    },
    "papermill": {
     "duration": 0.083977,
     "end_time": "2023-07-31T15:08:23.046037",
     "exception": false,
     "start_time": "2023-07-31T15:08:22.962060",
     "status": "completed"
    },
    "tags": []
   },
   "outputs": [],
   "source": [
    "categorical_preds.iloc[:, 4:] = categorical_preds.iloc[:, 4:].replace({0.0: 'No', 1.0: 'Yes'})"
   ]
  },
  {
   "cell_type": "code",
   "execution_count": 299,
   "id": "a3b51d1d",
   "metadata": {
    "execution": {
     "iopub.execute_input": "2023-07-31T15:08:23.106366Z",
     "iopub.status.busy": "2023-07-31T15:08:23.105626Z",
     "iopub.status.idle": "2023-07-31T15:08:23.123550Z",
     "shell.execute_reply": "2023-07-31T15:08:23.122406Z"
    },
    "papermill": {
     "duration": 0.052154,
     "end_time": "2023-07-31T15:08:23.126663",
     "exception": false,
     "start_time": "2023-07-31T15:08:23.074509",
     "status": "completed"
    },
    "tags": []
   },
   "outputs": [
    {
     "data": {
      "text/html": [
       "<div>\n",
       "<style scoped>\n",
       "    .dataframe tbody tr th:only-of-type {\n",
       "        vertical-align: middle;\n",
       "    }\n",
       "\n",
       "    .dataframe tbody tr th {\n",
       "        vertical-align: top;\n",
       "    }\n",
       "\n",
       "    .dataframe thead th {\n",
       "        text-align: right;\n",
       "    }\n",
       "</style>\n",
       "<table border=\"1\" class=\"dataframe\">\n",
       "  <thead>\n",
       "    <tr style=\"text-align: right;\">\n",
       "      <th></th>\n",
       "      <th>A</th>\n",
       "      <th>AB</th>\n",
       "      <th>B</th>\n",
       "      <th>O</th>\n",
       "      <th>Gender</th>\n",
       "      <th>Diabetes</th>\n",
       "      <th>Smoking</th>\n",
       "    </tr>\n",
       "  </thead>\n",
       "  <tbody>\n",
       "    <tr>\n",
       "      <th>0</th>\n",
       "      <td>1.0</td>\n",
       "      <td>0.0</td>\n",
       "      <td>0.0</td>\n",
       "      <td>0.0</td>\n",
       "      <td>No</td>\n",
       "      <td>No</td>\n",
       "      <td>No</td>\n",
       "    </tr>\n",
       "    <tr>\n",
       "      <th>1</th>\n",
       "      <td>0.0</td>\n",
       "      <td>1.0</td>\n",
       "      <td>0.0</td>\n",
       "      <td>0.0</td>\n",
       "      <td>Yes</td>\n",
       "      <td>No</td>\n",
       "      <td>No</td>\n",
       "    </tr>\n",
       "    <tr>\n",
       "      <th>2</th>\n",
       "      <td>0.0</td>\n",
       "      <td>0.0</td>\n",
       "      <td>0.0</td>\n",
       "      <td>1.0</td>\n",
       "      <td>Yes</td>\n",
       "      <td>No</td>\n",
       "      <td>No</td>\n",
       "    </tr>\n",
       "    <tr>\n",
       "      <th>3</th>\n",
       "      <td>1.0</td>\n",
       "      <td>0.0</td>\n",
       "      <td>0.0</td>\n",
       "      <td>0.0</td>\n",
       "      <td>Yes</td>\n",
       "      <td>No</td>\n",
       "      <td>No</td>\n",
       "    </tr>\n",
       "    <tr>\n",
       "      <th>4</th>\n",
       "      <td>0.0</td>\n",
       "      <td>0.0</td>\n",
       "      <td>0.0</td>\n",
       "      <td>1.0</td>\n",
       "      <td>No</td>\n",
       "      <td>Yes</td>\n",
       "      <td>No</td>\n",
       "    </tr>\n",
       "  </tbody>\n",
       "</table>\n",
       "</div>"
      ],
      "text/plain": [
       "     A   AB    B    O Gender Diabetes Smoking\n",
       "0  1.0  0.0  0.0  0.0     No       No      No\n",
       "1  0.0  1.0  0.0  0.0    Yes       No      No\n",
       "2  0.0  0.0  0.0  1.0    Yes       No      No\n",
       "3  1.0  0.0  0.0  0.0    Yes       No      No\n",
       "4  0.0  0.0  0.0  1.0     No      Yes      No"
      ]
     },
     "execution_count": 299,
     "metadata": {},
     "output_type": "execute_result"
    }
   ],
   "source": [
    "categorical_preds.head()"
   ]
  },
  {
   "cell_type": "code",
   "execution_count": 300,
   "id": "0a507aeb",
   "metadata": {
    "execution": {
     "iopub.execute_input": "2023-07-31T15:08:23.186906Z",
     "iopub.status.busy": "2023-07-31T15:08:23.186032Z",
     "iopub.status.idle": "2023-07-31T15:08:23.287357Z",
     "shell.execute_reply": "2023-07-31T15:08:23.286109Z"
    },
    "papermill": {
     "duration": 0.13484,
     "end_time": "2023-07-31T15:08:23.290471",
     "exception": false,
     "start_time": "2023-07-31T15:08:23.155631",
     "status": "completed"
    },
    "tags": []
   },
   "outputs": [],
   "source": [
    "for col in categorical_preds.columns:\n",
    "    categorical_preds[col] = categorical_preds[col].replace({0.0: '', 1.0: col})"
   ]
  },
  {
   "cell_type": "code",
   "execution_count": 301,
   "id": "dcfcbf9b",
   "metadata": {
    "execution": {
     "iopub.execute_input": "2023-07-31T15:08:23.351552Z",
     "iopub.status.busy": "2023-07-31T15:08:23.351055Z",
     "iopub.status.idle": "2023-07-31T15:08:23.370997Z",
     "shell.execute_reply": "2023-07-31T15:08:23.369620Z"
    },
    "papermill": {
     "duration": 0.053538,
     "end_time": "2023-07-31T15:08:23.373810",
     "exception": false,
     "start_time": "2023-07-31T15:08:23.320272",
     "status": "completed"
    },
    "tags": []
   },
   "outputs": [],
   "source": [
    "categorical_preds['Blood Type'] = categorical_preds['A'] + categorical_preds['AB'] + categorical_preds['B'] + categorical_preds['O']\n",
    "categorical_preds = categorical_preds.iloc[:, 4:]\n",
    "categorical_preds.index = NaN_data.index"
   ]
  },
  {
   "cell_type": "code",
   "execution_count": 302,
   "id": "2987e9ee",
   "metadata": {
    "execution": {
     "iopub.execute_input": "2023-07-31T15:08:23.435886Z",
     "iopub.status.busy": "2023-07-31T15:08:23.434961Z",
     "iopub.status.idle": "2023-07-31T15:08:23.447612Z",
     "shell.execute_reply": "2023-07-31T15:08:23.446219Z"
    },
    "papermill": {
     "duration": 0.04677,
     "end_time": "2023-07-31T15:08:23.450173",
     "exception": false,
     "start_time": "2023-07-31T15:08:23.403403",
     "status": "completed"
    },
    "tags": []
   },
   "outputs": [
    {
     "data": {
      "text/html": [
       "<div>\n",
       "<style scoped>\n",
       "    .dataframe tbody tr th:only-of-type {\n",
       "        vertical-align: middle;\n",
       "    }\n",
       "\n",
       "    .dataframe tbody tr th {\n",
       "        vertical-align: top;\n",
       "    }\n",
       "\n",
       "    .dataframe thead th {\n",
       "        text-align: right;\n",
       "    }\n",
       "</style>\n",
       "<table border=\"1\" class=\"dataframe\">\n",
       "  <thead>\n",
       "    <tr style=\"text-align: right;\">\n",
       "      <th></th>\n",
       "      <th>Gender</th>\n",
       "      <th>Diabetes</th>\n",
       "      <th>Smoking</th>\n",
       "      <th>Blood Type</th>\n",
       "    </tr>\n",
       "  </thead>\n",
       "  <tbody>\n",
       "    <tr>\n",
       "      <th>2</th>\n",
       "      <td>No</td>\n",
       "      <td>No</td>\n",
       "      <td>No</td>\n",
       "      <td>A</td>\n",
       "    </tr>\n",
       "    <tr>\n",
       "      <th>4</th>\n",
       "      <td>Yes</td>\n",
       "      <td>No</td>\n",
       "      <td>No</td>\n",
       "      <td>AB</td>\n",
       "    </tr>\n",
       "    <tr>\n",
       "      <th>8</th>\n",
       "      <td>Yes</td>\n",
       "      <td>No</td>\n",
       "      <td>No</td>\n",
       "      <td>O</td>\n",
       "    </tr>\n",
       "    <tr>\n",
       "      <th>9</th>\n",
       "      <td>Yes</td>\n",
       "      <td>No</td>\n",
       "      <td>No</td>\n",
       "      <td>A</td>\n",
       "    </tr>\n",
       "    <tr>\n",
       "      <th>10</th>\n",
       "      <td>No</td>\n",
       "      <td>Yes</td>\n",
       "      <td>No</td>\n",
       "      <td>O</td>\n",
       "    </tr>\n",
       "  </tbody>\n",
       "</table>\n",
       "</div>"
      ],
      "text/plain": [
       "   Gender Diabetes Smoking Blood Type\n",
       "2      No       No      No          A\n",
       "4     Yes       No      No         AB\n",
       "8     Yes       No      No          O\n",
       "9     Yes       No      No          A\n",
       "10     No      Yes      No          O"
      ]
     },
     "execution_count": 302,
     "metadata": {},
     "output_type": "execute_result"
    }
   ],
   "source": [
    "categorical_preds.head()"
   ]
  },
  {
   "cell_type": "code",
   "execution_count": 303,
   "id": "0b067b9e",
   "metadata": {
    "execution": {
     "iopub.execute_input": "2023-07-31T15:08:23.591784Z",
     "iopub.status.busy": "2023-07-31T15:08:23.591293Z",
     "iopub.status.idle": "2023-07-31T15:08:23.619340Z",
     "shell.execute_reply": "2023-07-31T15:08:23.617955Z"
    },
    "papermill": {
     "duration": 0.064594,
     "end_time": "2023-07-31T15:08:23.622474",
     "exception": false,
     "start_time": "2023-07-31T15:08:23.557880",
     "status": "completed"
    },
    "tags": []
   },
   "outputs": [],
   "source": [
    "categorical_preds['Gender'] = categorical_preds['Gender'].replace({'No': 'Male', 'Yes': 'Female'})"
   ]
  },
  {
   "cell_type": "code",
   "execution_count": 304,
   "id": "225b49b7",
   "metadata": {
    "execution": {
     "iopub.execute_input": "2023-07-31T15:08:23.768888Z",
     "iopub.status.busy": "2023-07-31T15:08:23.768402Z",
     "iopub.status.idle": "2023-07-31T15:08:23.871614Z",
     "shell.execute_reply": "2023-07-31T15:08:23.870360Z"
    },
    "papermill": {
     "duration": 0.138889,
     "end_time": "2023-07-31T15:08:23.874759",
     "exception": false,
     "start_time": "2023-07-31T15:08:23.735870",
     "status": "completed"
    },
    "tags": []
   },
   "outputs": [
    {
     "name": "stdout",
     "output_type": "stream",
     "text": [
      "<class 'pandas.core.frame.DataFrame'>\n",
      "Int64Index: 6909 entries, 2 to 19998\n",
      "Data columns (total 4 columns):\n",
      " #   Column      Non-Null Count  Dtype \n",
      "---  ------      --------------  ----- \n",
      " 0   Gender      6909 non-null   object\n",
      " 1   Diabetes    6909 non-null   object\n",
      " 2   Smoking     6909 non-null   object\n",
      " 3   Blood Type  6909 non-null   object\n",
      "dtypes: object(4)\n",
      "memory usage: 269.9+ KB\n"
     ]
    }
   ],
   "source": [
    "categorical_preds.info()"
   ]
  },
  {
   "cell_type": "code",
   "execution_count": 305,
   "id": "8e2a2e1f",
   "metadata": {
    "execution": {
     "iopub.execute_input": "2023-07-31T15:08:23.940458Z",
     "iopub.status.busy": "2023-07-31T15:08:23.939675Z",
     "iopub.status.idle": "2023-07-31T15:08:23.949154Z",
     "shell.execute_reply": "2023-07-31T15:08:23.948034Z"
    },
    "papermill": {
     "duration": 0.046399,
     "end_time": "2023-07-31T15:08:23.951458",
     "exception": false,
     "start_time": "2023-07-31T15:08:23.905059",
     "status": "completed"
    },
    "tags": []
   },
   "outputs": [
    {
     "data": {
      "text/plain": [
       "((6909, 4), (6909, 4))"
      ]
     },
     "execution_count": 305,
     "metadata": {},
     "output_type": "execute_result"
    }
   ],
   "source": [
    "categorical_preds.shape, categorical_NaN.shape"
   ]
  },
  {
   "cell_type": "code",
   "execution_count": 306,
   "id": "13a347fe",
   "metadata": {
    "execution": {
     "iopub.execute_input": "2023-07-31T15:08:24.015234Z",
     "iopub.status.busy": "2023-07-31T15:08:24.014101Z",
     "iopub.status.idle": "2023-07-31T15:08:24.028223Z",
     "shell.execute_reply": "2023-07-31T15:08:24.026985Z"
    },
    "papermill": {
     "duration": 0.04903,
     "end_time": "2023-07-31T15:08:24.030934",
     "exception": false,
     "start_time": "2023-07-31T15:08:23.981904",
     "status": "completed"
    },
    "tags": []
   },
   "outputs": [
    {
     "data": {
      "text/html": [
       "<div>\n",
       "<style scoped>\n",
       "    .dataframe tbody tr th:only-of-type {\n",
       "        vertical-align: middle;\n",
       "    }\n",
       "\n",
       "    .dataframe tbody tr th {\n",
       "        vertical-align: top;\n",
       "    }\n",
       "\n",
       "    .dataframe thead th {\n",
       "        text-align: right;\n",
       "    }\n",
       "</style>\n",
       "<table border=\"1\" class=\"dataframe\">\n",
       "  <thead>\n",
       "    <tr style=\"text-align: right;\">\n",
       "      <th></th>\n",
       "      <th>Gender</th>\n",
       "      <th>Blood Type</th>\n",
       "      <th>Diabetes</th>\n",
       "      <th>Smoking</th>\n",
       "    </tr>\n",
       "  </thead>\n",
       "  <tbody>\n",
       "    <tr>\n",
       "      <th>2</th>\n",
       "      <td>NaN</td>\n",
       "      <td>B</td>\n",
       "      <td>No</td>\n",
       "      <td>No</td>\n",
       "    </tr>\n",
       "    <tr>\n",
       "      <th>4</th>\n",
       "      <td>Male</td>\n",
       "      <td>AB</td>\n",
       "      <td>NaN</td>\n",
       "      <td>No</td>\n",
       "    </tr>\n",
       "    <tr>\n",
       "      <th>8</th>\n",
       "      <td>NaN</td>\n",
       "      <td>O</td>\n",
       "      <td>No</td>\n",
       "      <td>No</td>\n",
       "    </tr>\n",
       "    <tr>\n",
       "      <th>9</th>\n",
       "      <td>Male</td>\n",
       "      <td>O</td>\n",
       "      <td>NaN</td>\n",
       "      <td>No</td>\n",
       "    </tr>\n",
       "    <tr>\n",
       "      <th>10</th>\n",
       "      <td>NaN</td>\n",
       "      <td>B</td>\n",
       "      <td>No</td>\n",
       "      <td>No</td>\n",
       "    </tr>\n",
       "  </tbody>\n",
       "</table>\n",
       "</div>"
      ],
      "text/plain": [
       "   Gender Blood Type Diabetes Smoking\n",
       "2     NaN          B       No      No\n",
       "4    Male         AB      NaN      No\n",
       "8     NaN          O       No      No\n",
       "9    Male          O      NaN      No\n",
       "10    NaN          B       No      No"
      ]
     },
     "execution_count": 306,
     "metadata": {},
     "output_type": "execute_result"
    }
   ],
   "source": [
    "categorical_NaN.head()"
   ]
  },
  {
   "cell_type": "code",
   "execution_count": 307,
   "id": "3bba4fda",
   "metadata": {
    "execution": {
     "iopub.execute_input": "2023-07-31T15:08:24.096383Z",
     "iopub.status.busy": "2023-07-31T15:08:24.095889Z",
     "iopub.status.idle": "2023-07-31T15:08:24.109939Z",
     "shell.execute_reply": "2023-07-31T15:08:24.108406Z"
    },
    "papermill": {
     "duration": 0.049586,
     "end_time": "2023-07-31T15:08:24.112549",
     "exception": false,
     "start_time": "2023-07-31T15:08:24.062963",
     "status": "completed"
    },
    "tags": []
   },
   "outputs": [
    {
     "data": {
      "text/html": [
       "<div>\n",
       "<style scoped>\n",
       "    .dataframe tbody tr th:only-of-type {\n",
       "        vertical-align: middle;\n",
       "    }\n",
       "\n",
       "    .dataframe tbody tr th {\n",
       "        vertical-align: top;\n",
       "    }\n",
       "\n",
       "    .dataframe thead th {\n",
       "        text-align: right;\n",
       "    }\n",
       "</style>\n",
       "<table border=\"1\" class=\"dataframe\">\n",
       "  <thead>\n",
       "    <tr style=\"text-align: right;\">\n",
       "      <th></th>\n",
       "      <th>Gender</th>\n",
       "      <th>Diabetes</th>\n",
       "      <th>Smoking</th>\n",
       "      <th>Blood Type</th>\n",
       "    </tr>\n",
       "  </thead>\n",
       "  <tbody>\n",
       "    <tr>\n",
       "      <th>2</th>\n",
       "      <td>Male</td>\n",
       "      <td>No</td>\n",
       "      <td>No</td>\n",
       "      <td>A</td>\n",
       "    </tr>\n",
       "    <tr>\n",
       "      <th>4</th>\n",
       "      <td>Female</td>\n",
       "      <td>No</td>\n",
       "      <td>No</td>\n",
       "      <td>AB</td>\n",
       "    </tr>\n",
       "    <tr>\n",
       "      <th>8</th>\n",
       "      <td>Female</td>\n",
       "      <td>No</td>\n",
       "      <td>No</td>\n",
       "      <td>O</td>\n",
       "    </tr>\n",
       "    <tr>\n",
       "      <th>9</th>\n",
       "      <td>Female</td>\n",
       "      <td>No</td>\n",
       "      <td>No</td>\n",
       "      <td>A</td>\n",
       "    </tr>\n",
       "    <tr>\n",
       "      <th>10</th>\n",
       "      <td>Male</td>\n",
       "      <td>Yes</td>\n",
       "      <td>No</td>\n",
       "      <td>O</td>\n",
       "    </tr>\n",
       "  </tbody>\n",
       "</table>\n",
       "</div>"
      ],
      "text/plain": [
       "    Gender Diabetes Smoking Blood Type\n",
       "2     Male       No      No          A\n",
       "4   Female       No      No         AB\n",
       "8   Female       No      No          O\n",
       "9   Female       No      No          A\n",
       "10    Male      Yes      No          O"
      ]
     },
     "execution_count": 307,
     "metadata": {},
     "output_type": "execute_result"
    }
   ],
   "source": [
    "categorical_preds.head()"
   ]
  },
  {
   "cell_type": "code",
   "execution_count": 308,
   "id": "7e1bda76",
   "metadata": {
    "execution": {
     "iopub.execute_input": "2023-07-31T15:08:24.178277Z",
     "iopub.status.busy": "2023-07-31T15:08:24.177841Z",
     "iopub.status.idle": "2023-07-31T15:08:24.299097Z",
     "shell.execute_reply": "2023-07-31T15:08:24.297939Z"
    },
    "papermill": {
     "duration": 0.158199,
     "end_time": "2023-07-31T15:08:24.302756",
     "exception": false,
     "start_time": "2023-07-31T15:08:24.144557",
     "status": "completed"
    },
    "tags": []
   },
   "outputs": [],
   "source": [
    "cleaned_data = categorical_NaN.fillna(categorical_preds)"
   ]
  },
  {
   "cell_type": "code",
   "execution_count": 309,
   "id": "143a7ad8",
   "metadata": {
    "execution": {
     "iopub.execute_input": "2023-07-31T15:08:24.369156Z",
     "iopub.status.busy": "2023-07-31T15:08:24.367733Z",
     "iopub.status.idle": "2023-07-31T15:08:24.385908Z",
     "shell.execute_reply": "2023-07-31T15:08:24.384415Z"
    },
    "papermill": {
     "duration": 0.054373,
     "end_time": "2023-07-31T15:08:24.388930",
     "exception": false,
     "start_time": "2023-07-31T15:08:24.334557",
     "status": "completed"
    },
    "tags": []
   },
   "outputs": [],
   "source": [
    "cleaned_data = pd.merge(numerical_NaN, cleaned_data, right_index=True, left_index=True)"
   ]
  },
  {
   "cell_type": "code",
   "execution_count": 310,
   "id": "0d4d6c26",
   "metadata": {
    "execution": {
     "iopub.execute_input": "2023-07-31T15:08:24.455768Z",
     "iopub.status.busy": "2023-07-31T15:08:24.455248Z",
     "iopub.status.idle": "2023-07-31T15:08:24.463197Z",
     "shell.execute_reply": "2023-07-31T15:08:24.462063Z"
    },
    "papermill": {
     "duration": 0.043922,
     "end_time": "2023-07-31T15:08:24.465930",
     "exception": false,
     "start_time": "2023-07-31T15:08:24.422008",
     "status": "completed"
    },
    "tags": []
   },
   "outputs": [],
   "source": [
    "cleaned_data['BMI'] = (cleaned_data['Weight'] / pow(cleaned_data['Height'], 2)) * 10000"
   ]
  },
  {
   "cell_type": "code",
   "execution_count": 311,
   "id": "64a4362a",
   "metadata": {
    "execution": {
     "iopub.execute_input": "2023-07-31T15:08:24.531492Z",
     "iopub.status.busy": "2023-07-31T15:08:24.529932Z",
     "iopub.status.idle": "2023-07-31T15:08:24.551677Z",
     "shell.execute_reply": "2023-07-31T15:08:24.550538Z"
    },
    "papermill": {
     "duration": 0.05719,
     "end_time": "2023-07-31T15:08:24.554293",
     "exception": false,
     "start_time": "2023-07-31T15:08:24.497103",
     "status": "completed"
    },
    "tags": []
   },
   "outputs": [
    {
     "data": {
      "text/html": [
       "<div>\n",
       "<style scoped>\n",
       "    .dataframe tbody tr th:only-of-type {\n",
       "        vertical-align: middle;\n",
       "    }\n",
       "\n",
       "    .dataframe tbody tr th {\n",
       "        vertical-align: top;\n",
       "    }\n",
       "\n",
       "    .dataframe thead th {\n",
       "        text-align: right;\n",
       "    }\n",
       "</style>\n",
       "<table border=\"1\" class=\"dataframe\">\n",
       "  <thead>\n",
       "    <tr style=\"text-align: right;\">\n",
       "      <th></th>\n",
       "      <th>Age</th>\n",
       "      <th>Height</th>\n",
       "      <th>Weight</th>\n",
       "      <th>Temperature</th>\n",
       "      <th>Heart Rate</th>\n",
       "      <th>Blood Pressure</th>\n",
       "      <th>Cholesterol</th>\n",
       "      <th>Gender</th>\n",
       "      <th>Blood Type</th>\n",
       "      <th>Diabetes</th>\n",
       "      <th>Smoking</th>\n",
       "      <th>BMI</th>\n",
       "    </tr>\n",
       "  </thead>\n",
       "  <tbody>\n",
       "    <tr>\n",
       "      <th>2</th>\n",
       "      <td>18.0</td>\n",
       "      <td>181.297913</td>\n",
       "      <td>83.552679</td>\n",
       "      <td>98.073156</td>\n",
       "      <td>96.0</td>\n",
       "      <td>130.0</td>\n",
       "      <td>209.0</td>\n",
       "      <td>Male</td>\n",
       "      <td>B</td>\n",
       "      <td>No</td>\n",
       "      <td>No</td>\n",
       "      <td>25.419955</td>\n",
       "    </tr>\n",
       "    <tr>\n",
       "      <th>4</th>\n",
       "      <td>30.0</td>\n",
       "      <td>176.240978</td>\n",
       "      <td>86.892154</td>\n",
       "      <td>98.587099</td>\n",
       "      <td>85.0</td>\n",
       "      <td>105.0</td>\n",
       "      <td>239.0</td>\n",
       "      <td>Male</td>\n",
       "      <td>AB</td>\n",
       "      <td>No</td>\n",
       "      <td>No</td>\n",
       "      <td>27.974786</td>\n",
       "    </tr>\n",
       "    <tr>\n",
       "      <th>8</th>\n",
       "      <td>25.0</td>\n",
       "      <td>182.393355</td>\n",
       "      <td>40.749151</td>\n",
       "      <td>98.897528</td>\n",
       "      <td>89.0</td>\n",
       "      <td>121.0</td>\n",
       "      <td>212.0</td>\n",
       "      <td>Female</td>\n",
       "      <td>O</td>\n",
       "      <td>No</td>\n",
       "      <td>No</td>\n",
       "      <td>12.248997</td>\n",
       "    </tr>\n",
       "    <tr>\n",
       "      <th>9</th>\n",
       "      <td>22.0</td>\n",
       "      <td>174.612249</td>\n",
       "      <td>49.604230</td>\n",
       "      <td>98.945057</td>\n",
       "      <td>65.0</td>\n",
       "      <td>119.0</td>\n",
       "      <td>177.0</td>\n",
       "      <td>Male</td>\n",
       "      <td>O</td>\n",
       "      <td>No</td>\n",
       "      <td>No</td>\n",
       "      <td>16.269316</td>\n",
       "    </tr>\n",
       "    <tr>\n",
       "      <th>10</th>\n",
       "      <td>26.0</td>\n",
       "      <td>153.776101</td>\n",
       "      <td>69.985652</td>\n",
       "      <td>98.043213</td>\n",
       "      <td>71.0</td>\n",
       "      <td>118.0</td>\n",
       "      <td>144.0</td>\n",
       "      <td>Male</td>\n",
       "      <td>B</td>\n",
       "      <td>No</td>\n",
       "      <td>No</td>\n",
       "      <td>29.595884</td>\n",
       "    </tr>\n",
       "  </tbody>\n",
       "</table>\n",
       "</div>"
      ],
      "text/plain": [
       "     Age      Height     Weight  Temperature  Heart Rate  Blood Pressure  \\\n",
       "2   18.0  181.297913  83.552679    98.073156        96.0           130.0   \n",
       "4   30.0  176.240978  86.892154    98.587099        85.0           105.0   \n",
       "8   25.0  182.393355  40.749151    98.897528        89.0           121.0   \n",
       "9   22.0  174.612249  49.604230    98.945057        65.0           119.0   \n",
       "10  26.0  153.776101  69.985652    98.043213        71.0           118.0   \n",
       "\n",
       "    Cholesterol  Gender Blood Type Diabetes Smoking        BMI  \n",
       "2         209.0    Male          B       No      No  25.419955  \n",
       "4         239.0    Male         AB       No      No  27.974786  \n",
       "8         212.0  Female          O       No      No  12.248997  \n",
       "9         177.0    Male          O       No      No  16.269316  \n",
       "10        144.0    Male          B       No      No  29.595884  "
      ]
     },
     "execution_count": 311,
     "metadata": {},
     "output_type": "execute_result"
    }
   ],
   "source": [
    "cleaned_data.head()"
   ]
  },
  {
   "cell_type": "code",
   "execution_count": 312,
   "id": "85db39c0",
   "metadata": {
    "execution": {
     "iopub.execute_input": "2023-07-31T15:08:24.622395Z",
     "iopub.status.busy": "2023-07-31T15:08:24.621506Z",
     "iopub.status.idle": "2023-07-31T15:08:24.969380Z",
     "shell.execute_reply": "2023-07-31T15:08:24.967922Z"
    },
    "papermill": {
     "duration": 0.386384,
     "end_time": "2023-07-31T15:08:24.972798",
     "exception": false,
     "start_time": "2023-07-31T15:08:24.586414",
     "status": "completed"
    },
    "tags": []
   },
   "outputs": [],
   "source": [
    "data = pd.concat([data.dropna(), cleaned_data])"
   ]
  },
  {
   "cell_type": "code",
   "execution_count": 313,
   "id": "0f54fa02",
   "metadata": {
    "execution": {
     "iopub.execute_input": "2023-07-31T15:08:25.040558Z",
     "iopub.status.busy": "2023-07-31T15:08:25.039779Z",
     "iopub.status.idle": "2023-07-31T15:08:25.061947Z",
     "shell.execute_reply": "2023-07-31T15:08:25.061016Z"
    },
    "papermill": {
     "duration": 0.059361,
     "end_time": "2023-07-31T15:08:25.064362",
     "exception": false,
     "start_time": "2023-07-31T15:08:25.005001",
     "status": "completed"
    },
    "tags": []
   },
   "outputs": [
    {
     "data": {
      "text/html": [
       "<div>\n",
       "<style scoped>\n",
       "    .dataframe tbody tr th:only-of-type {\n",
       "        vertical-align: middle;\n",
       "    }\n",
       "\n",
       "    .dataframe tbody tr th {\n",
       "        vertical-align: top;\n",
       "    }\n",
       "\n",
       "    .dataframe thead th {\n",
       "        text-align: right;\n",
       "    }\n",
       "</style>\n",
       "<table border=\"1\" class=\"dataframe\">\n",
       "  <thead>\n",
       "    <tr style=\"text-align: right;\">\n",
       "      <th></th>\n",
       "      <th>Age</th>\n",
       "      <th>Gender</th>\n",
       "      <th>Height</th>\n",
       "      <th>Weight</th>\n",
       "      <th>Blood Type</th>\n",
       "      <th>BMI</th>\n",
       "      <th>Temperature</th>\n",
       "      <th>Heart Rate</th>\n",
       "      <th>Blood Pressure</th>\n",
       "      <th>Cholesterol</th>\n",
       "      <th>Diabetes</th>\n",
       "      <th>Smoking</th>\n",
       "    </tr>\n",
       "  </thead>\n",
       "  <tbody>\n",
       "    <tr>\n",
       "      <th>0</th>\n",
       "      <td>24.0</td>\n",
       "      <td>Male</td>\n",
       "      <td>167.694625</td>\n",
       "      <td>55.635829</td>\n",
       "      <td>O</td>\n",
       "      <td>19.784099</td>\n",
       "      <td>99.361936</td>\n",
       "      <td>81.0</td>\n",
       "      <td>115.0</td>\n",
       "      <td>184.0</td>\n",
       "      <td>Yes</td>\n",
       "      <td>No</td>\n",
       "    </tr>\n",
       "    <tr>\n",
       "      <th>1</th>\n",
       "      <td>34.0</td>\n",
       "      <td>Male</td>\n",
       "      <td>181.479032</td>\n",
       "      <td>97.815454</td>\n",
       "      <td>AB</td>\n",
       "      <td>29.699871</td>\n",
       "      <td>98.288009</td>\n",
       "      <td>97.0</td>\n",
       "      <td>120.0</td>\n",
       "      <td>208.0</td>\n",
       "      <td>No</td>\n",
       "      <td>No</td>\n",
       "    </tr>\n",
       "    <tr>\n",
       "      <th>3</th>\n",
       "      <td>26.0</td>\n",
       "      <td>Female</td>\n",
       "      <td>198.565988</td>\n",
       "      <td>67.405975</td>\n",
       "      <td>A</td>\n",
       "      <td>17.095770</td>\n",
       "      <td>98.883892</td>\n",
       "      <td>69.0</td>\n",
       "      <td>119.0</td>\n",
       "      <td>184.0</td>\n",
       "      <td>No</td>\n",
       "      <td>No</td>\n",
       "    </tr>\n",
       "    <tr>\n",
       "      <th>5</th>\n",
       "      <td>33.0</td>\n",
       "      <td>Male</td>\n",
       "      <td>196.994752</td>\n",
       "      <td>75.174266</td>\n",
       "      <td>AB</td>\n",
       "      <td>19.371350</td>\n",
       "      <td>98.123552</td>\n",
       "      <td>95.0</td>\n",
       "      <td>129.0</td>\n",
       "      <td>179.0</td>\n",
       "      <td>No</td>\n",
       "      <td>No</td>\n",
       "    </tr>\n",
       "    <tr>\n",
       "      <th>6</th>\n",
       "      <td>18.0</td>\n",
       "      <td>Male</td>\n",
       "      <td>199.068889</td>\n",
       "      <td>52.809062</td>\n",
       "      <td>AB</td>\n",
       "      <td>13.326057</td>\n",
       "      <td>98.854223</td>\n",
       "      <td>71.0</td>\n",
       "      <td>130.0</td>\n",
       "      <td>177.0</td>\n",
       "      <td>No</td>\n",
       "      <td>Yes</td>\n",
       "    </tr>\n",
       "  </tbody>\n",
       "</table>\n",
       "</div>"
      ],
      "text/plain": [
       "    Age  Gender      Height     Weight Blood Type        BMI  Temperature  \\\n",
       "0  24.0    Male  167.694625  55.635829          O  19.784099    99.361936   \n",
       "1  34.0    Male  181.479032  97.815454         AB  29.699871    98.288009   \n",
       "3  26.0  Female  198.565988  67.405975          A  17.095770    98.883892   \n",
       "5  33.0    Male  196.994752  75.174266         AB  19.371350    98.123552   \n",
       "6  18.0    Male  199.068889  52.809062         AB  13.326057    98.854223   \n",
       "\n",
       "   Heart Rate  Blood Pressure  Cholesterol Diabetes Smoking  \n",
       "0        81.0           115.0        184.0      Yes      No  \n",
       "1        97.0           120.0        208.0       No      No  \n",
       "3        69.0           119.0        184.0       No      No  \n",
       "5        95.0           129.0        179.0       No      No  \n",
       "6        71.0           130.0        177.0       No     Yes  "
      ]
     },
     "execution_count": 313,
     "metadata": {},
     "output_type": "execute_result"
    }
   ],
   "source": [
    "data.head()"
   ]
  },
  {
   "cell_type": "code",
   "execution_count": 314,
   "id": "8f8fcf3f",
   "metadata": {
    "execution": {
     "iopub.execute_input": "2023-07-31T15:08:25.131721Z",
     "iopub.status.busy": "2023-07-31T15:08:25.130632Z",
     "iopub.status.idle": "2023-07-31T15:08:25.397315Z",
     "shell.execute_reply": "2023-07-31T15:08:25.396280Z"
    },
    "papermill": {
     "duration": 0.303235,
     "end_time": "2023-07-31T15:08:25.399877",
     "exception": false,
     "start_time": "2023-07-31T15:08:25.096642",
     "status": "completed"
    },
    "tags": []
   },
   "outputs": [
    {
     "data": {
      "text/plain": [
       "Age               0\n",
       "Gender            0\n",
       "Height            0\n",
       "Weight            0\n",
       "Blood Type        0\n",
       "BMI               0\n",
       "Temperature       0\n",
       "Heart Rate        0\n",
       "Blood Pressure    0\n",
       "Cholesterol       0\n",
       "Diabetes          0\n",
       "Smoking           0\n",
       "dtype: int64"
      ]
     },
     "execution_count": 314,
     "metadata": {},
     "output_type": "execute_result"
    }
   ],
   "source": [
    "data.isna().sum()"
   ]
  },
  {
   "cell_type": "code",
   "execution_count": 315,
   "id": "0c868983",
   "metadata": {
    "execution": {
     "iopub.execute_input": "2023-07-31T15:08:25.466892Z",
     "iopub.status.busy": "2023-07-31T15:08:25.466421Z",
     "iopub.status.idle": "2023-07-31T15:08:25.640416Z",
     "shell.execute_reply": "2023-07-31T15:08:25.639039Z"
    },
    "papermill": {
     "duration": 0.210832,
     "end_time": "2023-07-31T15:08:25.643147",
     "exception": false,
     "start_time": "2023-07-31T15:08:25.432315",
     "status": "completed"
    },
    "tags": []
   },
   "outputs": [
    {
     "data": {
      "text/plain": [
       "103"
      ]
     },
     "execution_count": 315,
     "metadata": {},
     "output_type": "execute_result"
    }
   ],
   "source": [
    "data.duplicated().sum()"
   ]
  },
  {
   "cell_type": "code",
   "execution_count": 316,
   "id": "8a05a9b1",
   "metadata": {},
   "outputs": [
    {
     "data": {
      "text/plain": [
       "(19814, 12)"
      ]
     },
     "execution_count": 316,
     "metadata": {},
     "output_type": "execute_result"
    }
   ],
   "source": [
    "data.drop_duplicates(keep='last', inplace=True)\n",
    "data.shape"
   ]
  },
  {
   "cell_type": "markdown",
   "id": "99e4bf85",
   "metadata": {
    "papermill": {
     "duration": 0.03237,
     "end_time": "2023-07-31T15:08:25.707963",
     "exception": false,
     "start_time": "2023-07-31T15:08:25.675593",
     "status": "completed"
    },
    "tags": []
   },
   "source": [
    "## Now there's no missing as well as duplicated values in the dataset. Data has already been prepared for analysis process"
   ]
  },
  {
   "cell_type": "code",
   "execution_count": 318,
   "id": "1cc30179",
   "metadata": {},
   "outputs": [
    {
     "name": "stdout",
     "output_type": "stream",
     "text": [
      "<class 'pandas.core.frame.DataFrame'>\n",
      "Int64Index: 19814 entries, 0 to 19998\n",
      "Data columns (total 12 columns):\n",
      " #   Column          Non-Null Count  Dtype  \n",
      "---  ------          --------------  -----  \n",
      " 0   Age             19814 non-null  float64\n",
      " 1   Gender          19814 non-null  object \n",
      " 2   Height          19814 non-null  float64\n",
      " 3   Weight          19814 non-null  float64\n",
      " 4   Blood Type      19814 non-null  object \n",
      " 5   BMI             19814 non-null  float64\n",
      " 6   Temperature     19814 non-null  float64\n",
      " 7   Heart Rate      19814 non-null  float64\n",
      " 8   Blood Pressure  19814 non-null  float64\n",
      " 9   Cholesterol     19814 non-null  float64\n",
      " 10  Diabetes        19814 non-null  object \n",
      " 11  Smoking         19814 non-null  object \n",
      "dtypes: float64(8), object(4)\n",
      "memory usage: 2.0+ MB\n"
     ]
    }
   ],
   "source": [
    "data.info()"
   ]
  },
  {
   "cell_type": "code",
   "execution_count": 319,
   "id": "54c38231",
   "metadata": {},
   "outputs": [],
   "source": [
    "plt.rcParams['figure.figsize']=[15,6]"
   ]
  },
  {
   "cell_type": "code",
   "execution_count": 322,
   "id": "695127a7",
   "metadata": {},
   "outputs": [
    {
     "data": {
      "image/png": "[encoded data removed]",
      "text/plain": [
       "<Figure size 1080x432 with 12 Axes>"
      ]
     },
     "metadata": {
      "needs_background": "light"
     },
     "output_type": "display_data"
    }
   ],
   "source": [
    "r=3\n",
    "c=4\n",
    "it=1\n",
    "for i,j in list(enumerate(data.columns)):\n",
    "    plt.suptitle(\"Visualizing all the variables\")\n",
    "    plt.subplot(r,c,it)\n",
    "    if data[j].dtype=='object':\n",
    "        sns.countplot(x=data[j])\n",
    "    else:\n",
    "        sns.kdeplot(data[j])\n",
    "        plt.grid()\n",
    "    it+=1\n",
    "plt.tight_layout()\n",
    "plt.show()"
   ]
  },
  {
   "cell_type": "code",
   "execution_count": 324,
   "id": "9b4010a0",
   "metadata": {},
   "outputs": [
    {
     "data": {
      "text/html": [
       "<div>\n",
       "<style scoped>\n",
       "    .dataframe tbody tr th:only-of-type {\n",
       "        vertical-align: middle;\n",
       "    }\n",
       "\n",
       "    .dataframe tbody tr th {\n",
       "        vertical-align: top;\n",
       "    }\n",
       "\n",
       "    .dataframe thead th {\n",
       "        text-align: right;\n",
       "    }\n",
       "</style>\n",
       "<table border=\"1\" class=\"dataframe\">\n",
       "  <thead>\n",
       "    <tr style=\"text-align: right;\">\n",
       "      <th>Smoking</th>\n",
       "      <th>No</th>\n",
       "      <th>Yes</th>\n",
       "    </tr>\n",
       "    <tr>\n",
       "      <th>Gender</th>\n",
       "      <th></th>\n",
       "      <th></th>\n",
       "    </tr>\n",
       "  </thead>\n",
       "  <tbody>\n",
       "    <tr>\n",
       "      <th>Female</th>\n",
       "      <td>7949</td>\n",
       "      <td>2028</td>\n",
       "    </tr>\n",
       "    <tr>\n",
       "      <th>Male</th>\n",
       "      <td>7868</td>\n",
       "      <td>1969</td>\n",
       "    </tr>\n",
       "  </tbody>\n",
       "</table>\n",
       "</div>"
      ],
      "text/plain": [
       "Smoking    No   Yes\n",
       "Gender             \n",
       "Female   7949  2028\n",
       "Male     7868  1969"
      ]
     },
     "execution_count": 324,
     "metadata": {},
     "output_type": "execute_result"
    }
   ],
   "source": [
    "pd.crosstab(data['Gender'],data['Smoking'])"
   ]
  },
  {
   "cell_type": "code",
   "execution_count": 325,
   "id": "f3bd7dfc",
   "metadata": {},
   "outputs": [
    {
     "data": {
      "text/html": [
       "<div>\n",
       "<style scoped>\n",
       "    .dataframe tbody tr th:only-of-type {\n",
       "        vertical-align: middle;\n",
       "    }\n",
       "\n",
       "    .dataframe tbody tr th {\n",
       "        vertical-align: top;\n",
       "    }\n",
       "\n",
       "    .dataframe thead th {\n",
       "        text-align: right;\n",
       "    }\n",
       "</style>\n",
       "<table border=\"1\" class=\"dataframe\">\n",
       "  <thead>\n",
       "    <tr style=\"text-align: right;\">\n",
       "      <th>Diabetes</th>\n",
       "      <th>No</th>\n",
       "      <th>Yes</th>\n",
       "    </tr>\n",
       "    <tr>\n",
       "      <th>Gender</th>\n",
       "      <th></th>\n",
       "      <th></th>\n",
       "    </tr>\n",
       "  </thead>\n",
       "  <tbody>\n",
       "    <tr>\n",
       "      <th>Female</th>\n",
       "      <td>8987</td>\n",
       "      <td>990</td>\n",
       "    </tr>\n",
       "    <tr>\n",
       "      <th>Male</th>\n",
       "      <td>8817</td>\n",
       "      <td>1020</td>\n",
       "    </tr>\n",
       "  </tbody>\n",
       "</table>\n",
       "</div>"
      ],
      "text/plain": [
       "Diabetes    No   Yes\n",
       "Gender              \n",
       "Female    8987   990\n",
       "Male      8817  1020"
      ]
     },
     "execution_count": 325,
     "metadata": {},
     "output_type": "execute_result"
    }
   ],
   "source": [
    "pd.crosstab(data['Gender'],data['Diabetes'])"
   ]
  },
  {
   "cell_type": "code",
   "execution_count": 328,
   "id": "e5a02ae0",
   "metadata": {},
   "outputs": [],
   "source": [
    "def plotter(df,x,y):\n",
    "    if df[x].dtype=='object' and df[y].dtype=='float':\n",
    "        sns.barplot(x=x,y=y,data=df)\n",
    "    elif df[x].dtype=='float' and df[y].dtype=='float':\n",
    "        sns.scatterplot(x=x,y=y,data=df)\n",
    "    else:\n",
    "        pd.crosstab(df[x],df[y]).plot(kind='bar')\n",
    "        "
   ]
  },
  {
   "cell_type": "code",
   "execution_count": 329,
   "id": "404a1199",
   "metadata": {},
   "outputs": [
    {
     "data": {
      "image/png": "[encoded data removed]",
      "text/plain": [
       "<Figure size 1080x432 with 1 Axes>"
      ]
     },
     "metadata": {
      "needs_background": "light"
     },
     "output_type": "display_data"
    }
   ],
   "source": [
    "plotter(data,'Gender','BMI')"
   ]
  },
  {
   "cell_type": "code",
   "execution_count": 331,
   "id": "ace3f08b",
   "metadata": {},
   "outputs": [
    {
     "data": {
      "image/png": "[encoded data removed]",
      "text/plain": [
       "<Figure size 1080x432 with 1 Axes>"
      ]
     },
     "metadata": {
      "needs_background": "light"
     },
     "output_type": "display_data"
    }
   ],
   "source": [
    "plotter(data,'Height','Temperature')"
   ]
  },
  {
   "cell_type": "code",
   "execution_count": 336,
   "id": "46d4e54f",
   "metadata": {},
   "outputs": [
    {
     "data": {
      "text/plain": [
       "Index(['Age', 'Gender', 'Height', 'Weight', 'Blood Type', 'BMI', 'Temperature',\n",
       "       'Heart Rate', 'Blood Pressure', 'Cholesterol', 'Diabetes', 'Smoking'],\n",
       "      dtype='object')"
      ]
     },
     "execution_count": 336,
     "metadata": {},
     "output_type": "execute_result"
    }
   ],
   "source": [
    "data.columns"
   ]
  },
  {
   "cell_type": "code",
   "execution_count": 338,
   "id": "252c8196",
   "metadata": {},
   "outputs": [
    {
     "data": {
      "image/png": "[encoded data removed]",
      "text/plain": [
       "<Figure size 1080x432 with 1 Axes>"
      ]
     },
     "metadata": {
      "needs_background": "light"
     },
     "output_type": "display_data"
    }
   ],
   "source": [
    "plotter(data,'Blood Type','Gender')"
   ]
  },
  {
   "cell_type": "code",
   "execution_count": 335,
   "id": "72292ae2",
   "metadata": {},
   "outputs": [
    {
     "data": {
      "image/png": "[encoded data removed]",
      "text/plain": [
       "<Figure size 1080x432 with 8 Axes>"
      ]
     },
     "metadata": {
      "needs_background": "light"
     },
     "output_type": "display_data"
    }
   ],
   "source": [
    "r=3\n",
    "c=3\n",
    "it=1\n",
    "for i,j in list(enumerate(data.select_dtypes(include=np.number).columns)):\n",
    "    plt.suptitle(\"Visualizing the distribution of numerical data\")\n",
    "    plt.subplot(r,c,it)\n",
    "    sns.kdeplot(data[j])\n",
    "    plt.axvline(data[j].mean(),color='r')\n",
    "    plt.axvline(data[j].median(),color='b')\n",
    "    plt.axvline(data[j].mode()[0],color='y')\n",
    "    plt.grid()\n",
    "    it+=1\n",
    "plt.tight_layout()\n",
    "plt.show()"
   ]
  },
  {
   "cell_type": "code",
   "execution_count": 341,
   "id": "30f33ee5",
   "metadata": {},
   "outputs": [
    {
     "data": {
      "text/html": [
       "<div>\n",
       "<style scoped>\n",
       "    .dataframe tbody tr th:only-of-type {\n",
       "        vertical-align: middle;\n",
       "    }\n",
       "\n",
       "    .dataframe tbody tr th {\n",
       "        vertical-align: top;\n",
       "    }\n",
       "\n",
       "    .dataframe thead th {\n",
       "        text-align: right;\n",
       "    }\n",
       "</style>\n",
       "<table border=\"1\" class=\"dataframe\">\n",
       "  <thead>\n",
       "    <tr style=\"text-align: right;\">\n",
       "      <th></th>\n",
       "      <th>Age</th>\n",
       "      <th>Gender</th>\n",
       "      <th>Height</th>\n",
       "      <th>Weight</th>\n",
       "      <th>Blood Type</th>\n",
       "      <th>BMI</th>\n",
       "      <th>Temperature</th>\n",
       "      <th>Heart Rate</th>\n",
       "      <th>Blood Pressure</th>\n",
       "      <th>Cholesterol</th>\n",
       "      <th>Diabetes</th>\n",
       "      <th>Smoking</th>\n",
       "    </tr>\n",
       "  </thead>\n",
       "  <tbody>\n",
       "    <tr>\n",
       "      <th>0</th>\n",
       "      <td>24.0</td>\n",
       "      <td>Male</td>\n",
       "      <td>167.694625</td>\n",
       "      <td>55.635829</td>\n",
       "      <td>O</td>\n",
       "      <td>19.784099</td>\n",
       "      <td>99.361936</td>\n",
       "      <td>81.0</td>\n",
       "      <td>115.0</td>\n",
       "      <td>184.0</td>\n",
       "      <td>Yes</td>\n",
       "      <td>No</td>\n",
       "    </tr>\n",
       "    <tr>\n",
       "      <th>1</th>\n",
       "      <td>34.0</td>\n",
       "      <td>Male</td>\n",
       "      <td>181.479032</td>\n",
       "      <td>97.815454</td>\n",
       "      <td>AB</td>\n",
       "      <td>29.699871</td>\n",
       "      <td>98.288009</td>\n",
       "      <td>97.0</td>\n",
       "      <td>120.0</td>\n",
       "      <td>208.0</td>\n",
       "      <td>No</td>\n",
       "      <td>No</td>\n",
       "    </tr>\n",
       "    <tr>\n",
       "      <th>3</th>\n",
       "      <td>26.0</td>\n",
       "      <td>Female</td>\n",
       "      <td>198.565988</td>\n",
       "      <td>67.405975</td>\n",
       "      <td>A</td>\n",
       "      <td>17.095770</td>\n",
       "      <td>98.883892</td>\n",
       "      <td>69.0</td>\n",
       "      <td>119.0</td>\n",
       "      <td>184.0</td>\n",
       "      <td>No</td>\n",
       "      <td>No</td>\n",
       "    </tr>\n",
       "    <tr>\n",
       "      <th>5</th>\n",
       "      <td>33.0</td>\n",
       "      <td>Male</td>\n",
       "      <td>196.994752</td>\n",
       "      <td>75.174266</td>\n",
       "      <td>AB</td>\n",
       "      <td>19.371350</td>\n",
       "      <td>98.123552</td>\n",
       "      <td>95.0</td>\n",
       "      <td>129.0</td>\n",
       "      <td>179.0</td>\n",
       "      <td>No</td>\n",
       "      <td>No</td>\n",
       "    </tr>\n",
       "    <tr>\n",
       "      <th>6</th>\n",
       "      <td>18.0</td>\n",
       "      <td>Male</td>\n",
       "      <td>199.068889</td>\n",
       "      <td>52.809062</td>\n",
       "      <td>AB</td>\n",
       "      <td>13.326057</td>\n",
       "      <td>98.854223</td>\n",
       "      <td>71.0</td>\n",
       "      <td>130.0</td>\n",
       "      <td>177.0</td>\n",
       "      <td>No</td>\n",
       "      <td>Yes</td>\n",
       "    </tr>\n",
       "  </tbody>\n",
       "</table>\n",
       "</div>"
      ],
      "text/plain": [
       "    Age  Gender      Height     Weight Blood Type        BMI  Temperature  \\\n",
       "0  24.0    Male  167.694625  55.635829          O  19.784099    99.361936   \n",
       "1  34.0    Male  181.479032  97.815454         AB  29.699871    98.288009   \n",
       "3  26.0  Female  198.565988  67.405975          A  17.095770    98.883892   \n",
       "5  33.0    Male  196.994752  75.174266         AB  19.371350    98.123552   \n",
       "6  18.0    Male  199.068889  52.809062         AB  13.326057    98.854223   \n",
       "\n",
       "   Heart Rate  Blood Pressure  Cholesterol Diabetes Smoking  \n",
       "0        81.0           115.0        184.0      Yes      No  \n",
       "1        97.0           120.0        208.0       No      No  \n",
       "3        69.0           119.0        184.0       No      No  \n",
       "5        95.0           129.0        179.0       No      No  \n",
       "6        71.0           130.0        177.0       No     Yes  "
      ]
     },
     "execution_count": 341,
     "metadata": {},
     "output_type": "execute_result"
    }
   ],
   "source": [
    "data.head()"
   ]
  },
  {
   "cell_type": "code",
   "execution_count": 343,
   "id": "025ada92",
   "metadata": {},
   "outputs": [],
   "source": [
    "# identify numeric and categorical columns\n",
    "numeric_columns = data.select_dtypes(include=np.number).columns.tolist()\n",
    "categorical_columns = data.select_dtypes(exclude=np.number).columns.tolist()\n"
   ]
  },
  {
   "cell_type": "code",
   "execution_count": 344,
   "id": "b325ac4a",
   "metadata": {},
   "outputs": [],
   "source": [
    "#convert categorical columns to numeric columns using one hot encoding\n",
    "data = pd.get_dummies(data, columns=categorical_columns , drop_first=True)"
   ]
  },
  {
   "cell_type": "code",
   "execution_count": 346,
   "id": "2f658791",
   "metadata": {},
   "outputs": [
    {
     "data": {
      "text/html": [
       "<div>\n",
       "<style scoped>\n",
       "    .dataframe tbody tr th:only-of-type {\n",
       "        vertical-align: middle;\n",
       "    }\n",
       "\n",
       "    .dataframe tbody tr th {\n",
       "        vertical-align: top;\n",
       "    }\n",
       "\n",
       "    .dataframe thead th {\n",
       "        text-align: right;\n",
       "    }\n",
       "</style>\n",
       "<table border=\"1\" class=\"dataframe\">\n",
       "  <thead>\n",
       "    <tr style=\"text-align: right;\">\n",
       "      <th></th>\n",
       "      <th>Age</th>\n",
       "      <th>Height</th>\n",
       "      <th>Weight</th>\n",
       "      <th>BMI</th>\n",
       "      <th>Temperature</th>\n",
       "      <th>Heart Rate</th>\n",
       "      <th>Blood Pressure</th>\n",
       "      <th>Cholesterol</th>\n",
       "      <th>Gender_Male</th>\n",
       "      <th>Blood Type_AB</th>\n",
       "      <th>Blood Type_B</th>\n",
       "      <th>Blood Type_O</th>\n",
       "      <th>Diabetes_Yes</th>\n",
       "      <th>Smoking_Yes</th>\n",
       "    </tr>\n",
       "  </thead>\n",
       "  <tbody>\n",
       "    <tr>\n",
       "      <th>0</th>\n",
       "      <td>24.0</td>\n",
       "      <td>167.694625</td>\n",
       "      <td>55.635829</td>\n",
       "      <td>19.784099</td>\n",
       "      <td>99.361936</td>\n",
       "      <td>81.0</td>\n",
       "      <td>115.0</td>\n",
       "      <td>184.0</td>\n",
       "      <td>1</td>\n",
       "      <td>0</td>\n",
       "      <td>0</td>\n",
       "      <td>1</td>\n",
       "      <td>1</td>\n",
       "      <td>0</td>\n",
       "    </tr>\n",
       "    <tr>\n",
       "      <th>1</th>\n",
       "      <td>34.0</td>\n",
       "      <td>181.479032</td>\n",
       "      <td>97.815454</td>\n",
       "      <td>29.699871</td>\n",
       "      <td>98.288009</td>\n",
       "      <td>97.0</td>\n",
       "      <td>120.0</td>\n",
       "      <td>208.0</td>\n",
       "      <td>1</td>\n",
       "      <td>1</td>\n",
       "      <td>0</td>\n",
       "      <td>0</td>\n",
       "      <td>0</td>\n",
       "      <td>0</td>\n",
       "    </tr>\n",
       "    <tr>\n",
       "      <th>3</th>\n",
       "      <td>26.0</td>\n",
       "      <td>198.565988</td>\n",
       "      <td>67.405975</td>\n",
       "      <td>17.095770</td>\n",
       "      <td>98.883892</td>\n",
       "      <td>69.0</td>\n",
       "      <td>119.0</td>\n",
       "      <td>184.0</td>\n",
       "      <td>0</td>\n",
       "      <td>0</td>\n",
       "      <td>0</td>\n",
       "      <td>0</td>\n",
       "      <td>0</td>\n",
       "      <td>0</td>\n",
       "    </tr>\n",
       "    <tr>\n",
       "      <th>5</th>\n",
       "      <td>33.0</td>\n",
       "      <td>196.994752</td>\n",
       "      <td>75.174266</td>\n",
       "      <td>19.371350</td>\n",
       "      <td>98.123552</td>\n",
       "      <td>95.0</td>\n",
       "      <td>129.0</td>\n",
       "      <td>179.0</td>\n",
       "      <td>1</td>\n",
       "      <td>1</td>\n",
       "      <td>0</td>\n",
       "      <td>0</td>\n",
       "      <td>0</td>\n",
       "      <td>0</td>\n",
       "    </tr>\n",
       "    <tr>\n",
       "      <th>6</th>\n",
       "      <td>18.0</td>\n",
       "      <td>199.068889</td>\n",
       "      <td>52.809062</td>\n",
       "      <td>13.326057</td>\n",
       "      <td>98.854223</td>\n",
       "      <td>71.0</td>\n",
       "      <td>130.0</td>\n",
       "      <td>177.0</td>\n",
       "      <td>1</td>\n",
       "      <td>1</td>\n",
       "      <td>0</td>\n",
       "      <td>0</td>\n",
       "      <td>0</td>\n",
       "      <td>1</td>\n",
       "    </tr>\n",
       "  </tbody>\n",
       "</table>\n",
       "</div>"
      ],
      "text/plain": [
       "    Age      Height     Weight        BMI  Temperature  Heart Rate  \\\n",
       "0  24.0  167.694625  55.635829  19.784099    99.361936        81.0   \n",
       "1  34.0  181.479032  97.815454  29.699871    98.288009        97.0   \n",
       "3  26.0  198.565988  67.405975  17.095770    98.883892        69.0   \n",
       "5  33.0  196.994752  75.174266  19.371350    98.123552        95.0   \n",
       "6  18.0  199.068889  52.809062  13.326057    98.854223        71.0   \n",
       "\n",
       "   Blood Pressure  Cholesterol  Gender_Male  Blood Type_AB  Blood Type_B  \\\n",
       "0           115.0        184.0            1              0             0   \n",
       "1           120.0        208.0            1              1             0   \n",
       "3           119.0        184.0            0              0             0   \n",
       "5           129.0        179.0            1              1             0   \n",
       "6           130.0        177.0            1              1             0   \n",
       "\n",
       "   Blood Type_O  Diabetes_Yes  Smoking_Yes  \n",
       "0             1             1            0  \n",
       "1             0             0            0  \n",
       "3             0             0            0  \n",
       "5             0             0            0  \n",
       "6             0             0            1  "
      ]
     },
     "execution_count": 346,
     "metadata": {},
     "output_type": "execute_result"
    }
   ],
   "source": [
    "data.head()"
   ]
  },
  {
   "cell_type": "code",
   "execution_count": 347,
   "id": "3874c6ef",
   "metadata": {},
   "outputs": [
    {
     "data": {
      "text/plain": [
       "(19814, 14)"
      ]
     },
     "execution_count": 347,
     "metadata": {},
     "output_type": "execute_result"
    }
   ],
   "source": [
    "data.shape"
   ]
  },
  {
   "cell_type": "code",
   "execution_count": 348,
   "id": "cab1aef6",
   "metadata": {},
   "outputs": [],
   "source": [
    "def train_model_helper(model, X, y, test_size=0.25, random_state=0, plot_confusion_matrix = False, Model_Name=''):\n",
    "    \n",
    "    if Model_Name=='':\n",
    "        Model_Name = model.__class__.__name__\n",
    "    print(f\"Model name: {Model_Name} \\nTest Size:{test_size}\")\n",
    "    \n",
    "    # Split the data into training and testing sets\n",
    "    X_train, X_test, y_train, y_test = train_test_split(X, y, test_size=test_size, random_state=random_state)\n",
    "    \n",
    "    # Feature scaling\n",
    "    sc = StandardScaler()\n",
    "    X_train = sc.fit_transform(X_train)\n",
    "    X_test = sc.transform(X_test)\n",
    "    \n",
    "    # Train the model\n",
    "    model.fit(X_train, y_train)\n",
    "    \n",
    "    # Make predictions on the test set\n",
    "    y_pred = model.predict(X_test)\n",
    "    \n",
    "    if plot_confusion_matrix:\n",
    "        # Print confusion matrix\n",
    "        cm = confusion_matrix(y_test, y_pred)\n",
    "        plt.figure(figsize=(6, 6))\n",
    "        sns.heatmap(cm, annot=True, cmap='Blues', fmt='g')\n",
    "        plt.title(f\"{Model_Name} Confusion Matrix\")\n",
    "        plt.xlabel(\"Predicted Label\")\n",
    "        plt.ylabel(\"True Label\")\n",
    "        plt.show()\n",
    "    \n",
    "    \n",
    "    # Print accuracy score\n",
    "    accuracy = round(accuracy_score(y_test, y_pred)*100, 2)\n",
    "    print(f\"{Model_Name} Accuracy: {accuracy:.2f}%\")\n",
    "    \n",
    "    return accuracy"
   ]
  },
  {
   "cell_type": "code",
   "execution_count": 357,
   "id": "25e120e7",
   "metadata": {},
   "outputs": [],
   "source": [
    "models_acc = {}\n",
    "Test_Data_Sizes = [0.15, 0.20, 0.25]\n",
    "X = data.iloc[:, :-1].values\n",
    "y = data.iloc[:, -1].values"
   ]
  },
  {
   "cell_type": "code",
   "execution_count": 358,
   "id": "d81fd174",
   "metadata": {},
   "outputs": [],
   "source": [
    "def train_model(model_name, model, plot_matrix = False, test_data_size=[0.25]):\n",
    "    models_acc[model_name] = []\n",
    "    \n",
    "    for size in test_data_size:\n",
    "        #splitting data in input and output\n",
    "        acc = train_model_helper(model, X, y, Model_Name=model_name, test_size=size, plot_confusion_matrix= plot_matrix)\n",
    "\n",
    "        #appending the accuracy to dictionary\n",
    "        models_acc[model_name].append(acc)\n",
    "            \n",
    "    "
   ]
  },
  {
   "cell_type": "code",
   "execution_count": 354,
   "id": "aad016d0",
   "metadata": {},
   "outputs": [],
   "source": [
    "models = {\n",
    "    'Logistic Regression':LogisticRegression(random_state=0),\n",
    "    'KNN':KNeighborsClassifier(n_neighbors = 5, metric = 'minkowski', p = 2),\n",
    "    'SVC_Linear':SVC(kernel = 'linear', random_state = 0),\n",
    "    'SVC_Radial':SVC(kernel = 'rbf', random_state = 0),\n",
    "    'Naive_Bayes':GaussianNB(),\n",
    "    'Decision_Tree':DecisionTreeClassifier(criterion = 'entropy', random_state = 0),\n",
    "    'Random_Forest':RandomForestClassifier(n_estimators = 10, criterion = 'entropy', random_state = 0),\n",
    "    'XG_Boost':xgb.XGBClassifier()\n",
    "}"
   ]
  },
  {
   "cell_type": "code",
   "execution_count": 359,
   "id": "11fe3488",
   "metadata": {},
   "outputs": [
    {
     "name": "stdout",
     "output_type": "stream",
     "text": [
      "Model name: Logistic Regression \n",
      "Test Size:0.15\n"
     ]
    },
    {
     "data": {
      "image/png": "[encoded data removed]",
      "text/plain": [
       "<Figure size 432x432 with 2 Axes>"
      ]
     },
     "metadata": {
      "needs_background": "light"
     },
     "output_type": "display_data"
    },
    {
     "name": "stdout",
     "output_type": "stream",
     "text": [
      "Logistic Regression Accuracy: 80.96%\n",
      "Model name: Logistic Regression \n",
      "Test Size:0.2\n"
     ]
    },
    {
     "data": {
      "image/png": "[encoded data removed]",
      "text/plain": [
       "<Figure size 432x432 with 2 Axes>"
      ]
     },
     "metadata": {
      "needs_background": "light"
     },
     "output_type": "display_data"
    },
    {
     "name": "stdout",
     "output_type": "stream",
     "text": [
      "Logistic Regression Accuracy: 79.91%\n",
      "Model name: Logistic Regression \n",
      "Test Size:0.25\n"
     ]
    },
    {
     "data": {
      "image/png": "[encoded data removed]",
      "text/plain": [
       "<Figure size 432x432 with 2 Axes>"
      ]
     },
     "metadata": {
      "needs_background": "light"
     },
     "output_type": "display_data"
    },
    {
     "name": "stdout",
     "output_type": "stream",
     "text": [
      "Logistic Regression Accuracy: 79.49%\n",
      "Model name: KNN \n",
      "Test Size:0.15\n"
     ]
    },
    {
     "data": {
      "image/png": "[encoded data removed]",
      "text/plain": [
       "<Figure size 432x432 with 2 Axes>"
      ]
     },
     "metadata": {
      "needs_background": "light"
     },
     "output_type": "display_data"
    },
    {
     "name": "stdout",
     "output_type": "stream",
     "text": [
      "KNN Accuracy: 77.03%\n",
      "Model name: KNN \n",
      "Test Size:0.2\n"
     ]
    },
    {
     "data": {
      "image/png": "[encoded data removed]",
      "text/plain": [
       "<Figure size 432x432 with 2 Axes>"
      ]
     },
     "metadata": {
      "needs_background": "light"
     },
     "output_type": "display_data"
    },
    {
     "name": "stdout",
     "output_type": "stream",
     "text": [
      "KNN Accuracy: 76.33%\n",
      "Model name: KNN \n",
      "Test Size:0.25\n"
     ]
    },
    {
     "data": {
      "image/png": "[encoded data removed]",
      "text/plain": [
       "<Figure size 432x432 with 2 Axes>"
      ]
     },
     "metadata": {
      "needs_background": "light"
     },
     "output_type": "display_data"
    },
    {
     "name": "stdout",
     "output_type": "stream",
     "text": [
      "KNN Accuracy: 75.94%\n",
      "Model name: SVC_Linear \n",
      "Test Size:0.15\n"
     ]
    },
    {
     "data": {
      "image/png": "[encoded data removed]",
      "text/plain": [
       "<Figure size 432x432 with 2 Axes>"
      ]
     },
     "metadata": {
      "needs_background": "light"
     },
     "output_type": "display_data"
    },
    {
     "name": "stdout",
     "output_type": "stream",
     "text": [
      "SVC_Linear Accuracy: 80.96%\n",
      "Model name: SVC_Linear \n",
      "Test Size:0.2\n"
     ]
    },
    {
     "data": {
      "image/png": "[encoded data removed]",
      "text/plain": [
       "<Figure size 432x432 with 2 Axes>"
      ]
     },
     "metadata": {
      "needs_background": "light"
     },
     "output_type": "display_data"
    },
    {
     "name": "stdout",
     "output_type": "stream",
     "text": [
      "SVC_Linear Accuracy: 79.91%\n",
      "Model name: SVC_Linear \n",
      "Test Size:0.25\n"
     ]
    },
    {
     "data": {
      "image/png": "[encoded data removed]",
      "text/plain": [
       "<Figure size 432x432 with 2 Axes>"
      ]
     },
     "metadata": {
      "needs_background": "light"
     },
     "output_type": "display_data"
    },
    {
     "name": "stdout",
     "output_type": "stream",
     "text": [
      "SVC_Linear Accuracy: 79.49%\n",
      "Model name: SVC_Radial \n",
      "Test Size:0.15\n"
     ]
    },
    {
     "data": {
      "image/png": "[encoded data removed]",
      "text/plain": [
       "<Figure size 432x432 with 2 Axes>"
      ]
     },
     "metadata": {
      "needs_background": "light"
     },
     "output_type": "display_data"
    },
    {
     "name": "stdout",
     "output_type": "stream",
     "text": [
      "SVC_Radial Accuracy: 80.96%\n",
      "Model name: SVC_Radial \n",
      "Test Size:0.2\n"
     ]
    },
    {
     "data": {
      "image/png": "[encoded data removed]",
      "text/plain": [
       "<Figure size 432x432 with 2 Axes>"
      ]
     },
     "metadata": {
      "needs_background": "light"
     },
     "output_type": "display_data"
    },
    {
     "name": "stdout",
     "output_type": "stream",
     "text": [
      "SVC_Radial Accuracy: 79.91%\n",
      "Model name: SVC_Radial \n",
      "Test Size:0.25\n"
     ]
    },
    {
     "data": {
      "image/png": "[encoded data removed]",
      "text/plain": [
       "<Figure size 432x432 with 2 Axes>"
      ]
     },
     "metadata": {
      "needs_background": "light"
     },
     "output_type": "display_data"
    },
    {
     "name": "stdout",
     "output_type": "stream",
     "text": [
      "SVC_Radial Accuracy: 79.49%\n",
      "Model name: Naive_Bayes \n",
      "Test Size:0.15\n"
     ]
    },
    {
     "data": {
      "image/png": "[encoded data removed]",
      "text/plain": [
       "<Figure size 432x432 with 2 Axes>"
      ]
     },
     "metadata": {
      "needs_background": "light"
     },
     "output_type": "display_data"
    },
    {
     "name": "stdout",
     "output_type": "stream",
     "text": [
      "Naive_Bayes Accuracy: 80.96%\n",
      "Model name: Naive_Bayes \n",
      "Test Size:0.2\n"
     ]
    },
    {
     "data": {
      "image/png": "[encoded data removed]",
      "text/plain": [
       "<Figure size 432x432 with 2 Axes>"
      ]
     },
     "metadata": {
      "needs_background": "light"
     },
     "output_type": "display_data"
    },
    {
     "name": "stdout",
     "output_type": "stream",
     "text": [
      "Naive_Bayes Accuracy: 79.91%\n",
      "Model name: Naive_Bayes \n",
      "Test Size:0.25\n"
     ]
    },
    {
     "data": {
      "image/png": "[encoded data removed]",
      "text/plain": [
       "<Figure size 432x432 with 2 Axes>"
      ]
     },
     "metadata": {
      "needs_background": "light"
     },
     "output_type": "display_data"
    },
    {
     "name": "stdout",
     "output_type": "stream",
     "text": [
      "Naive_Bayes Accuracy: 79.49%\n",
      "Model name: Decision_Tree \n",
      "Test Size:0.15\n"
     ]
    },
    {
     "data": {
      "image/png": "[encoded data removed]",
      "text/plain": [
       "<Figure size 432x432 with 2 Axes>"
      ]
     },
     "metadata": {
      "needs_background": "light"
     },
     "output_type": "display_data"
    },
    {
     "name": "stdout",
     "output_type": "stream",
     "text": [
      "Decision_Tree Accuracy: 67.14%\n",
      "Model name: Decision_Tree \n",
      "Test Size:0.2\n"
     ]
    },
    {
     "data": {
      "image/png": "[encoded data removed]",
      "text/plain": [
       "<Figure size 432x432 with 2 Axes>"
      ]
     },
     "metadata": {
      "needs_background": "light"
     },
     "output_type": "display_data"
    },
    {
     "name": "stdout",
     "output_type": "stream",
     "text": [
      "Decision_Tree Accuracy: 67.70%\n",
      "Model name: Decision_Tree \n",
      "Test Size:0.25\n"
     ]
    },
    {
     "data": {
      "image/png": "[encoded data removed]",
      "text/plain": [
       "<Figure size 432x432 with 2 Axes>"
      ]
     },
     "metadata": {
      "needs_background": "light"
     },
     "output_type": "display_data"
    },
    {
     "name": "stdout",
     "output_type": "stream",
     "text": [
      "Decision_Tree Accuracy: 67.42%\n",
      "Model name: Random_Forest \n",
      "Test Size:0.15\n"
     ]
    },
    {
     "data": {
      "image/png": "[encoded data removed]",
      "text/plain": [
       "<Figure size 432x432 with 2 Axes>"
      ]
     },
     "metadata": {
      "needs_background": "light"
     },
     "output_type": "display_data"
    },
    {
     "name": "stdout",
     "output_type": "stream",
     "text": [
      "Random_Forest Accuracy: 80.83%\n",
      "Model name: Random_Forest \n",
      "Test Size:0.2\n"
     ]
    },
    {
     "data": {
      "image/png": "[encoded data removed]",
      "text/plain": [
       "<Figure size 432x432 with 2 Axes>"
      ]
     },
     "metadata": {
      "needs_background": "light"
     },
     "output_type": "display_data"
    },
    {
     "name": "stdout",
     "output_type": "stream",
     "text": [
      "Random_Forest Accuracy: 79.49%\n",
      "Model name: Random_Forest \n",
      "Test Size:0.25\n"
     ]
    },
    {
     "data": {
      "image/png": "[encoded data removed]",
      "text/plain": [
       "<Figure size 432x432 with 2 Axes>"
      ]
     },
     "metadata": {
      "needs_background": "light"
     },
     "output_type": "display_data"
    },
    {
     "name": "stdout",
     "output_type": "stream",
     "text": [
      "Random_Forest Accuracy: 79.01%\n",
      "Model name: XG_Boost \n",
      "Test Size:0.15\n"
     ]
    },
    {
     "data": {
      "image/png": "[encoded data removed]",
      "text/plain": [
       "<Figure size 432x432 with 2 Axes>"
      ]
     },
     "metadata": {
      "needs_background": "light"
     },
     "output_type": "display_data"
    },
    {
     "name": "stdout",
     "output_type": "stream",
     "text": [
      "XG_Boost Accuracy: 80.39%\n",
      "Model name: XG_Boost \n",
      "Test Size:0.2\n"
     ]
    },
    {
     "data": {
      "image/png": "[encoded data removed]",
      "text/plain": [
       "<Figure size 432x432 with 2 Axes>"
      ]
     },
     "metadata": {
      "needs_background": "light"
     },
     "output_type": "display_data"
    },
    {
     "name": "stdout",
     "output_type": "stream",
     "text": [
      "XG_Boost Accuracy: 79.11%\n",
      "Model name: XG_Boost \n",
      "Test Size:0.25\n"
     ]
    },
    {
     "data": {
      "image/png": "[encoded data removed]",
      "text/plain": [
       "<Figure size 432x432 with 2 Axes>"
      ]
     },
     "metadata": {
      "needs_background": "light"
     },
     "output_type": "display_data"
    },
    {
     "name": "stdout",
     "output_type": "stream",
     "text": [
      "XG_Boost Accuracy: 79.07%\n"
     ]
    }
   ],
   "source": [
    "for name,model in models.items():\n",
    "    train_model(name, model, test_data_size=Test_Data_Sizes, plot_matrix = True)\n",
    "    "
   ]
  },
  {
   "cell_type": "code",
   "execution_count": 360,
   "id": "29cb388e",
   "metadata": {},
   "outputs": [
    {
     "data": {
      "text/html": [
       "<div>\n",
       "<style scoped>\n",
       "    .dataframe tbody tr th:only-of-type {\n",
       "        vertical-align: middle;\n",
       "    }\n",
       "\n",
       "    .dataframe tbody tr th {\n",
       "        vertical-align: top;\n",
       "    }\n",
       "\n",
       "    .dataframe thead th {\n",
       "        text-align: right;\n",
       "    }\n",
       "</style>\n",
       "<table border=\"1\" class=\"dataframe\">\n",
       "  <thead>\n",
       "    <tr style=\"text-align: right;\">\n",
       "      <th></th>\n",
       "      <th>test_15</th>\n",
       "      <th>test_20</th>\n",
       "      <th>test_25</th>\n",
       "    </tr>\n",
       "  </thead>\n",
       "  <tbody>\n",
       "    <tr>\n",
       "      <th>Logistic Regression</th>\n",
       "      <td>80.96</td>\n",
       "      <td>79.91</td>\n",
       "      <td>79.49</td>\n",
       "    </tr>\n",
       "    <tr>\n",
       "      <th>KNN</th>\n",
       "      <td>77.03</td>\n",
       "      <td>76.33</td>\n",
       "      <td>75.94</td>\n",
       "    </tr>\n",
       "    <tr>\n",
       "      <th>SVC_Linear</th>\n",
       "      <td>80.96</td>\n",
       "      <td>79.91</td>\n",
       "      <td>79.49</td>\n",
       "    </tr>\n",
       "    <tr>\n",
       "      <th>SVC_Radial</th>\n",
       "      <td>80.96</td>\n",
       "      <td>79.91</td>\n",
       "      <td>79.49</td>\n",
       "    </tr>\n",
       "    <tr>\n",
       "      <th>Naive_Bayes</th>\n",
       "      <td>80.96</td>\n",
       "      <td>79.91</td>\n",
       "      <td>79.49</td>\n",
       "    </tr>\n",
       "    <tr>\n",
       "      <th>Decision_Tree</th>\n",
       "      <td>67.14</td>\n",
       "      <td>67.70</td>\n",
       "      <td>67.42</td>\n",
       "    </tr>\n",
       "    <tr>\n",
       "      <th>Random_Forest</th>\n",
       "      <td>80.83</td>\n",
       "      <td>79.49</td>\n",
       "      <td>79.01</td>\n",
       "    </tr>\n",
       "    <tr>\n",
       "      <th>XG_Boost</th>\n",
       "      <td>80.39</td>\n",
       "      <td>79.11</td>\n",
       "      <td>79.07</td>\n",
       "    </tr>\n",
       "  </tbody>\n",
       "</table>\n",
       "</div>"
      ],
      "text/plain": [
       "                     test_15  test_20  test_25\n",
       "Logistic Regression    80.96    79.91    79.49\n",
       "KNN                    77.03    76.33    75.94\n",
       "SVC_Linear             80.96    79.91    79.49\n",
       "SVC_Radial             80.96    79.91    79.49\n",
       "Naive_Bayes            80.96    79.91    79.49\n",
       "Decision_Tree          67.14    67.70    67.42\n",
       "Random_Forest          80.83    79.49    79.01\n",
       "XG_Boost               80.39    79.11    79.07"
      ]
     },
     "execution_count": 360,
     "metadata": {},
     "output_type": "execute_result"
    }
   ],
   "source": [
    "results = pd.DataFrame(models_acc)\n",
    "results = results.transpose()\n",
    "results.columns = ['test_15', 'test_20', 'test_25']\n",
    "results"
   ]
  },
  {
   "cell_type": "markdown",
   "id": "05dd610b",
   "metadata": {},
   "source": []
  },
  {
   "cell_type": "code",
   "execution_count": 361,
   "id": "4d835012",
   "metadata": {},
   "outputs": [
    {
     "name": "stdout",
     "output_type": "stream",
     "text": [
      "test_15    80.96\n",
      "test_20    79.91\n",
      "test_25    79.49\n",
      "dtype: float64\n",
      "test_15    Logistic Regression\n",
      "test_20    Logistic Regression\n",
      "test_25    Logistic Regression\n",
      "dtype: object\n"
     ]
    }
   ],
   "source": [
    "print(results.max())\n",
    "print(results.idxmax())"
   ]
  },
  {
   "cell_type": "code",
   "execution_count": 362,
   "id": "ff3d8460",
   "metadata": {},
   "outputs": [
    {
     "data": {
      "image/png": "[encoded data removed]",
      "text/plain": [
       "<Figure size 1152x432 with 1 Axes>"
      ]
     },
     "metadata": {
      "needs_background": "light"
     },
     "output_type": "display_data"
    }
   ],
   "source": [
    "ax = results.plot(kind='bar', figsize=(16, 6))\n",
    "ax.set_ylabel('Accuracy')\n",
    "ax.set_xlabel('Model and Dataset Size')\n",
    "plt.title('Model Accuracy for Different Dataset Sizes')\n",
    "plt.xticks(rotation=45, ha='right')\n",
    "plt.legend(title='Dataset Size', bbox_to_anchor=(1.05, 1), loc='upper left')\n",
    "plt.tight_layout()\n",
    "plt.show()"
   ]
  },
  {
   "cell_type": "markdown",
   "id": "e1bf75be",
   "metadata": {},
   "source": [
    "### Logistic Regression, SVC_Linear, SVC_Radial, Naive_Bayes, and Random_Forest models show the same accuracy across all test sizes.\n",
    "### Accuracy decreases with increasing test size, indicating that they may overfit the data on larger test sets.\n",
    "### Decision_Tree performs the worst among all models, with significantly lower accuracy compared to other models on all test sizes."
   ]
  },
  {
   "cell_type": "code",
   "execution_count": null,
   "id": "ca028cf4",
   "metadata": {},
   "outputs": [],
   "source": []
  },
  {
   "cell_type": "markdown",
   "id": "5d9bdb00",
   "metadata": {},
   "source": [
    "## hyperparameter for XGBOOST"
   ]
  },
  {
   "cell_type": "code",
   "execution_count": 363,
   "id": "bada9a32",
   "metadata": {},
   "outputs": [],
   "source": [
    "from sklearn.model_selection import train_test_split, RandomizedSearchCV"
   ]
  },
  {
   "cell_type": "code",
   "execution_count": 380,
   "id": "674f4eb7",
   "metadata": {},
   "outputs": [],
   "source": [
    "X_train, X_test, y_train, y_test = train_test_split(X, y, test_size=0.15, random_state=42)\n",
    "\n",
    "param_dist = {\n",
    "    'learning_rate': [0.01, 0.05, 0.1, 0.2],\n",
    "    'n_estimators': [100, 300, 500, 700],\n",
    "    'max_depth': [3, 5, 7, 9],\n",
    "    'subsample': [0.7, 0.8, 0.9],\n",
    "    'colsample_bytree': [0.7, 0.8, 0.9],\n",
    "    'gamma': [0, 0.1, 0.2, 0.3],\n",
    "    'min_child_weight': [1, 3, 5, 7]\n",
    "}"
   ]
  },
  {
   "cell_type": "code",
   "execution_count": 381,
   "id": "c1da009f",
   "metadata": {},
   "outputs": [],
   "source": [
    "xgb_model = xgb.XGBClassifier(random_state=42)\n",
    "xgb_random = RandomizedSearchCV(estimator=xgb_model, param_distributions=param_dist, n_iter=100, scoring='accuracy',\n",
    "                                cv=3, random_state=42, n_jobs=-1, verbose=3)"
   ]
  },
  {
   "cell_type": "code",
   "execution_count": 382,
   "id": "e7963702",
   "metadata": {},
   "outputs": [
    {
     "name": "stdout",
     "output_type": "stream",
     "text": [
      "Fitting 3 folds for each of 100 candidates, totalling 300 fits\n"
     ]
    },
    {
     "data": {
      "text/plain": [
       "RandomizedSearchCV(cv=3,\n",
       "                   estimator=XGBClassifier(base_score=None, booster=None,\n",
       "                                           callbacks=None,\n",
       "                                           colsample_bylevel=None,\n",
       "                                           colsample_bynode=None,\n",
       "                                           colsample_bytree=None,\n",
       "                                           early_stopping_rounds=None,\n",
       "                                           enable_categorical=False,\n",
       "                                           eval_metric=None, feature_types=None,\n",
       "                                           gamma=None, gpu_id=None,\n",
       "                                           grow_policy=None,\n",
       "                                           importance_type=None,\n",
       "                                           interaction_constraints=None,\n",
       "                                           learning_rate...\n",
       "                                           num_parallel_tree=None,\n",
       "                                           predictor=None, random_state=42, ...),\n",
       "                   n_iter=100, n_jobs=-1,\n",
       "                   param_distributions={'colsample_bytree': [0.7, 0.8, 0.9],\n",
       "                                        'gamma': [0, 0.1, 0.2, 0.3],\n",
       "                                        'learning_rate': [0.01, 0.05, 0.1, 0.2],\n",
       "                                        'max_depth': [3, 5, 7, 9],\n",
       "                                        'min_child_weight': [1, 3, 5, 7],\n",
       "                                        'n_estimators': [100, 300, 500, 700],\n",
       "                                        'subsample': [0.7, 0.8, 0.9]},\n",
       "                   random_state=42, scoring='accuracy', verbose=3)"
      ]
     },
     "execution_count": 382,
     "metadata": {},
     "output_type": "execute_result"
    }
   ],
   "source": [
    "xgb_random.fit(X_train, y_train)"
   ]
  },
  {
   "cell_type": "code",
   "execution_count": 383,
   "id": "a17c2152",
   "metadata": {},
   "outputs": [],
   "source": [
    "y_pred = xgb_random.predict(X_test)"
   ]
  },
  {
   "cell_type": "code",
   "execution_count": 384,
   "id": "63f1645c",
   "metadata": {},
   "outputs": [
    {
     "data": {
      "image/png": "[encoded data removed]",
      "text/plain": [
       "<Figure size 432x432 with 2 Axes>"
      ]
     },
     "metadata": {
      "needs_background": "light"
     },
     "output_type": "display_data"
    }
   ],
   "source": [
    "cm = confusion_matrix(y_test, y_pred)\n",
    "plt.figure(figsize=(6, 6))\n",
    "sns.heatmap(cm, annot=True, cmap='Blues', fmt='g')\n",
    "plt.title(f\"XGBOOST Confusion Matrix\")\n",
    "plt.xlabel(\"Predicted Label\")\n",
    "plt.ylabel(\"True Label\")\n",
    "plt.show()"
   ]
  },
  {
   "cell_type": "code",
   "execution_count": 385,
   "id": "cee32606",
   "metadata": {},
   "outputs": [
    {
     "name": "stdout",
     "output_type": "stream",
     "text": [
      "XGBOOST Accuracy: 78.44%\n"
     ]
    }
   ],
   "source": [
    "accuracy = round(accuracy_score(y_test, y_pred)*100, 2)\n",
    "print(f\"XGBOOST Accuracy: {accuracy:.2f}%\")"
   ]
  },
  {
   "cell_type": "markdown",
   "id": "d064bf79",
   "metadata": {},
   "source": [
    "## hyperparameter for XGBOOST didnt improved its accuracy"
   ]
  }
 ],
 "metadata": {
  "kernelspec": {
   "display_name": "Python 3",
   "language": "python",
   "name": "python3"
  },
  "language_info": {
   "codemirror_mode": {
    "name": "ipython",
    "version": 3
   },
   "file_extension": ".py",
   "mimetype": "text/x-python",
   "name": "python",
   "nbconvert_exporter": "python",
   "pygments_lexer": "ipython3",
   "version": "3.8.8"
  },
  "papermill": {
   "default_parameters": {},
   "duration": 34.131541,
   "end_time": "2023-07-31T15:08:30.284001",
   "environment_variables": {},
   "exception": null,
   "input_path": "__notebook__.ipynb",
   "output_path": "__notebook__.ipynb",
   "parameters": {},
   "start_time": "2023-07-31T15:07:56.152460",
   "version": "2.4.0"
  }
 },
 "nbformat": 4,
 "nbformat_minor": 5
}
